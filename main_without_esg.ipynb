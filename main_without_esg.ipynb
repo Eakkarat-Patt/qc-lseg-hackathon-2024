{
 "cells": [
  {
   "cell_type": "code",
   "execution_count": 1,
   "id": "initial_id",
   "metadata": {
    "collapsed": true,
    "ExecuteTime": {
     "end_time": "2024-03-24T17:12:58.254763Z",
     "start_time": "2024-03-24T17:12:55.862305Z"
    }
   },
   "outputs": [],
   "source": [
    "import pymc as pm\n",
    "import numpy as np\n",
    "import matplotlib.pyplot as plt\n",
    "import pandas as pd\n",
    "from pymc import Model, Normal, sample, HalfNormal\n",
    "import arviz as az\n",
    "\n",
    "import yfinance as yf\n",
    "from pypfopt import EfficientFrontier, objective_functions\n",
    "from pypfopt import black_litterman, risk_models\n",
    "from pypfopt import BlackLittermanModel, plotting\n",
    "from pypfopt import DiscreteAllocation\n",
    "import warnings\n",
    "warnings.simplefilter(action='ignore', category=pd.errors.PerformanceWarning)"
   ]
  },
  {
   "cell_type": "code",
   "outputs": [],
   "source": [
    "start = '2014-12-31'\n",
    "end = '2022-12-31'\n",
    "ext_factors = pd.read_parquet('factors.parquet')\n",
    "stock_prices = pd.read_parquet('stock_data.parquet')\n",
    "stock_prices = stock_prices.loc[start:end, :]\n",
    "\n",
    "stock_rets = stock_prices.pct_change()\n",
    "ext_factors = ext_factors.resample('M').agg(lambda x: (x + 1).prod() - 1)\n",
    "stock_rets = stock_rets.resample('M').agg(lambda x: (x + 1).prod() - 1)\n",
    "\n",
    "ext_factors[[f'{factor}_lag' for factor in ext_factors.columns]] = ext_factors.shift(1)\n",
    "stock_rets[[f'{symbol}_lag' for symbol in stock_rets.columns]] = stock_rets.shift(1)\n",
    "\n",
    "ext_factors = ext_factors.dropna()\n",
    "stock_rets = stock_rets.dropna()\n",
    "\n",
    "\n",
    "\n"
   ],
   "metadata": {
    "collapsed": false,
    "ExecuteTime": {
     "end_time": "2024-03-24T17:13:03.119115Z",
     "start_time": "2024-03-24T17:13:01.820492Z"
    }
   },
   "id": "e7bf4f7ba8b02ee6",
   "execution_count": 2
  },
  {
   "cell_type": "code",
   "outputs": [],
   "source": [
    "# train/test split\n"
   ],
   "metadata": {
    "collapsed": false
   },
   "id": "7308050657b7a9f8"
  },
  {
   "cell_type": "code",
   "outputs": [
    {
     "name": "stderr",
     "output_type": "stream",
     "text": [
      "Auto-assigning NUTS sampler...\n",
      "Initializing NUTS using jitter+adapt_diag...\n",
      "Sequential sampling (1 chains in 1 job)\n",
      "NUTS: [beta0, beta1, stdev]\n"
     ]
    },
    {
     "data": {
      "text/plain": "<IPython.core.display.HTML object>",
      "text/html": "\n<style>\n    /* Turns off some styling */\n    progress {\n        /* gets rid of default border in Firefox and Opera. */\n        border: none;\n        /* Needs to be in here for Safari polyfill so background images work as expected. */\n        background-size: auto;\n    }\n    progress:not([value]), progress:not([value])::-webkit-progress-bar {\n        background: repeating-linear-gradient(45deg, #7e7e7e, #7e7e7e 10px, #5c5c5c 10px, #5c5c5c 20px);\n    }\n    .progress-bar-interrupted, .progress-bar-interrupted::-webkit-progress-bar {\n        background: #F44336;\n    }\n</style>\n"
     },
     "metadata": {},
     "output_type": "display_data"
    },
    {
     "data": {
      "text/plain": "<IPython.core.display.HTML object>",
      "text/html": "\n    <div>\n      <progress value='21000' class='' max='21000' style='width:300px; height:20px; vertical-align: middle;'></progress>\n      100.00% [21000/21000 00:12&lt;00:00 Sampling chain 0, 0 divergences]\n    </div>\n    "
     },
     "metadata": {},
     "output_type": "display_data"
    },
    {
     "name": "stderr",
     "output_type": "stream",
     "text": [
      "Sampling 1 chain for 1_000 tune and 20_000 draw iterations (1_000 + 20_000 draws total) took 12 seconds.\n",
      "Only one chain was sampled, this makes it impossible to run some convergence checks\n",
      "Auto-assigning NUTS sampler...\n",
      "Initializing NUTS using jitter+adapt_diag...\n",
      "Sequential sampling (1 chains in 1 job)\n",
      "NUTS: [beta0, beta1, stdev]\n"
     ]
    },
    {
     "data": {
      "text/plain": "<IPython.core.display.HTML object>",
      "text/html": "\n<style>\n    /* Turns off some styling */\n    progress {\n        /* gets rid of default border in Firefox and Opera. */\n        border: none;\n        /* Needs to be in here for Safari polyfill so background images work as expected. */\n        background-size: auto;\n    }\n    progress:not([value]), progress:not([value])::-webkit-progress-bar {\n        background: repeating-linear-gradient(45deg, #7e7e7e, #7e7e7e 10px, #5c5c5c 10px, #5c5c5c 20px);\n    }\n    .progress-bar-interrupted, .progress-bar-interrupted::-webkit-progress-bar {\n        background: #F44336;\n    }\n</style>\n"
     },
     "metadata": {},
     "output_type": "display_data"
    },
    {
     "data": {
      "text/plain": "<IPython.core.display.HTML object>",
      "text/html": "\n    <div>\n      <progress value='21000' class='' max='21000' style='width:300px; height:20px; vertical-align: middle;'></progress>\n      100.00% [21000/21000 00:12&lt;00:00 Sampling chain 0, 0 divergences]\n    </div>\n    "
     },
     "metadata": {},
     "output_type": "display_data"
    },
    {
     "name": "stderr",
     "output_type": "stream",
     "text": [
      "Sampling 1 chain for 1_000 tune and 20_000 draw iterations (1_000 + 20_000 draws total) took 12 seconds.\n",
      "Only one chain was sampled, this makes it impossible to run some convergence checks\n",
      "Auto-assigning NUTS sampler...\n",
      "Initializing NUTS using jitter+adapt_diag...\n",
      "Sequential sampling (1 chains in 1 job)\n",
      "NUTS: [beta0, beta1, stdev]\n"
     ]
    },
    {
     "data": {
      "text/plain": "<IPython.core.display.HTML object>",
      "text/html": "\n<style>\n    /* Turns off some styling */\n    progress {\n        /* gets rid of default border in Firefox and Opera. */\n        border: none;\n        /* Needs to be in here for Safari polyfill so background images work as expected. */\n        background-size: auto;\n    }\n    progress:not([value]), progress:not([value])::-webkit-progress-bar {\n        background: repeating-linear-gradient(45deg, #7e7e7e, #7e7e7e 10px, #5c5c5c 10px, #5c5c5c 20px);\n    }\n    .progress-bar-interrupted, .progress-bar-interrupted::-webkit-progress-bar {\n        background: #F44336;\n    }\n</style>\n"
     },
     "metadata": {},
     "output_type": "display_data"
    },
    {
     "data": {
      "text/plain": "<IPython.core.display.HTML object>",
      "text/html": "\n    <div>\n      <progress value='21000' class='' max='21000' style='width:300px; height:20px; vertical-align: middle;'></progress>\n      100.00% [21000/21000 00:13&lt;00:00 Sampling chain 0, 0 divergences]\n    </div>\n    "
     },
     "metadata": {},
     "output_type": "display_data"
    },
    {
     "name": "stderr",
     "output_type": "stream",
     "text": [
      "Sampling 1 chain for 1_000 tune and 20_000 draw iterations (1_000 + 20_000 draws total) took 14 seconds.\n",
      "Only one chain was sampled, this makes it impossible to run some convergence checks\n",
      "Auto-assigning NUTS sampler...\n",
      "Initializing NUTS using jitter+adapt_diag...\n",
      "Sequential sampling (1 chains in 1 job)\n",
      "NUTS: [beta0, beta1, stdev]\n"
     ]
    },
    {
     "data": {
      "text/plain": "<IPython.core.display.HTML object>",
      "text/html": "\n<style>\n    /* Turns off some styling */\n    progress {\n        /* gets rid of default border in Firefox and Opera. */\n        border: none;\n        /* Needs to be in here for Safari polyfill so background images work as expected. */\n        background-size: auto;\n    }\n    progress:not([value]), progress:not([value])::-webkit-progress-bar {\n        background: repeating-linear-gradient(45deg, #7e7e7e, #7e7e7e 10px, #5c5c5c 10px, #5c5c5c 20px);\n    }\n    .progress-bar-interrupted, .progress-bar-interrupted::-webkit-progress-bar {\n        background: #F44336;\n    }\n</style>\n"
     },
     "metadata": {},
     "output_type": "display_data"
    },
    {
     "data": {
      "text/plain": "<IPython.core.display.HTML object>",
      "text/html": "\n    <div>\n      <progress value='21000' class='' max='21000' style='width:300px; height:20px; vertical-align: middle;'></progress>\n      100.00% [21000/21000 00:09&lt;00:00 Sampling chain 0, 0 divergences]\n    </div>\n    "
     },
     "metadata": {},
     "output_type": "display_data"
    },
    {
     "name": "stderr",
     "output_type": "stream",
     "text": [
      "Sampling 1 chain for 1_000 tune and 20_000 draw iterations (1_000 + 20_000 draws total) took 10 seconds.\n",
      "Only one chain was sampled, this makes it impossible to run some convergence checks\n",
      "Auto-assigning NUTS sampler...\n",
      "Initializing NUTS using jitter+adapt_diag...\n",
      "Sequential sampling (1 chains in 1 job)\n",
      "NUTS: [beta0, beta1, stdev]\n"
     ]
    },
    {
     "data": {
      "text/plain": "<IPython.core.display.HTML object>",
      "text/html": "\n<style>\n    /* Turns off some styling */\n    progress {\n        /* gets rid of default border in Firefox and Opera. */\n        border: none;\n        /* Needs to be in here for Safari polyfill so background images work as expected. */\n        background-size: auto;\n    }\n    progress:not([value]), progress:not([value])::-webkit-progress-bar {\n        background: repeating-linear-gradient(45deg, #7e7e7e, #7e7e7e 10px, #5c5c5c 10px, #5c5c5c 20px);\n    }\n    .progress-bar-interrupted, .progress-bar-interrupted::-webkit-progress-bar {\n        background: #F44336;\n    }\n</style>\n"
     },
     "metadata": {},
     "output_type": "display_data"
    },
    {
     "data": {
      "text/plain": "<IPython.core.display.HTML object>",
      "text/html": "\n    <div>\n      <progress value='21000' class='' max='21000' style='width:300px; height:20px; vertical-align: middle;'></progress>\n      100.00% [21000/21000 00:12&lt;00:00 Sampling chain 0, 0 divergences]\n    </div>\n    "
     },
     "metadata": {},
     "output_type": "display_data"
    },
    {
     "name": "stderr",
     "output_type": "stream",
     "text": [
      "Sampling 1 chain for 1_000 tune and 20_000 draw iterations (1_000 + 20_000 draws total) took 12 seconds.\n",
      "Only one chain was sampled, this makes it impossible to run some convergence checks\n",
      "Auto-assigning NUTS sampler...\n",
      "Initializing NUTS using jitter+adapt_diag...\n",
      "Sequential sampling (1 chains in 1 job)\n",
      "NUTS: [beta0, beta1, stdev]\n"
     ]
    },
    {
     "data": {
      "text/plain": "<IPython.core.display.HTML object>",
      "text/html": "\n<style>\n    /* Turns off some styling */\n    progress {\n        /* gets rid of default border in Firefox and Opera. */\n        border: none;\n        /* Needs to be in here for Safari polyfill so background images work as expected. */\n        background-size: auto;\n    }\n    progress:not([value]), progress:not([value])::-webkit-progress-bar {\n        background: repeating-linear-gradient(45deg, #7e7e7e, #7e7e7e 10px, #5c5c5c 10px, #5c5c5c 20px);\n    }\n    .progress-bar-interrupted, .progress-bar-interrupted::-webkit-progress-bar {\n        background: #F44336;\n    }\n</style>\n"
     },
     "metadata": {},
     "output_type": "display_data"
    },
    {
     "data": {
      "text/plain": "<IPython.core.display.HTML object>",
      "text/html": "\n    <div>\n      <progress value='21000' class='' max='21000' style='width:300px; height:20px; vertical-align: middle;'></progress>\n      100.00% [21000/21000 00:14&lt;00:00 Sampling chain 0, 0 divergences]\n    </div>\n    "
     },
     "metadata": {},
     "output_type": "display_data"
    },
    {
     "name": "stderr",
     "output_type": "stream",
     "text": [
      "Sampling 1 chain for 1_000 tune and 20_000 draw iterations (1_000 + 20_000 draws total) took 15 seconds.\n",
      "Only one chain was sampled, this makes it impossible to run some convergence checks\n",
      "Auto-assigning NUTS sampler...\n",
      "Initializing NUTS using jitter+adapt_diag...\n",
      "Sequential sampling (1 chains in 1 job)\n",
      "NUTS: [beta0, beta1, stdev]\n"
     ]
    },
    {
     "data": {
      "text/plain": "<IPython.core.display.HTML object>",
      "text/html": "\n<style>\n    /* Turns off some styling */\n    progress {\n        /* gets rid of default border in Firefox and Opera. */\n        border: none;\n        /* Needs to be in here for Safari polyfill so background images work as expected. */\n        background-size: auto;\n    }\n    progress:not([value]), progress:not([value])::-webkit-progress-bar {\n        background: repeating-linear-gradient(45deg, #7e7e7e, #7e7e7e 10px, #5c5c5c 10px, #5c5c5c 20px);\n    }\n    .progress-bar-interrupted, .progress-bar-interrupted::-webkit-progress-bar {\n        background: #F44336;\n    }\n</style>\n"
     },
     "metadata": {},
     "output_type": "display_data"
    },
    {
     "data": {
      "text/plain": "<IPython.core.display.HTML object>",
      "text/html": "\n    <div>\n      <progress value='21000' class='' max='21000' style='width:300px; height:20px; vertical-align: middle;'></progress>\n      100.00% [21000/21000 00:13&lt;00:00 Sampling chain 0, 0 divergences]\n    </div>\n    "
     },
     "metadata": {},
     "output_type": "display_data"
    },
    {
     "name": "stderr",
     "output_type": "stream",
     "text": [
      "Sampling 1 chain for 1_000 tune and 20_000 draw iterations (1_000 + 20_000 draws total) took 13 seconds.\n",
      "Only one chain was sampled, this makes it impossible to run some convergence checks\n",
      "Auto-assigning NUTS sampler...\n",
      "Initializing NUTS using jitter+adapt_diag...\n",
      "Sequential sampling (1 chains in 1 job)\n",
      "NUTS: [beta0, beta1, stdev]\n"
     ]
    },
    {
     "data": {
      "text/plain": "<IPython.core.display.HTML object>",
      "text/html": "\n<style>\n    /* Turns off some styling */\n    progress {\n        /* gets rid of default border in Firefox and Opera. */\n        border: none;\n        /* Needs to be in here for Safari polyfill so background images work as expected. */\n        background-size: auto;\n    }\n    progress:not([value]), progress:not([value])::-webkit-progress-bar {\n        background: repeating-linear-gradient(45deg, #7e7e7e, #7e7e7e 10px, #5c5c5c 10px, #5c5c5c 20px);\n    }\n    .progress-bar-interrupted, .progress-bar-interrupted::-webkit-progress-bar {\n        background: #F44336;\n    }\n</style>\n"
     },
     "metadata": {},
     "output_type": "display_data"
    },
    {
     "data": {
      "text/plain": "<IPython.core.display.HTML object>",
      "text/html": "\n    <div>\n      <progress value='21000' class='' max='21000' style='width:300px; height:20px; vertical-align: middle;'></progress>\n      100.00% [21000/21000 00:11&lt;00:00 Sampling chain 0, 0 divergences]\n    </div>\n    "
     },
     "metadata": {},
     "output_type": "display_data"
    },
    {
     "name": "stderr",
     "output_type": "stream",
     "text": [
      "Sampling 1 chain for 1_000 tune and 20_000 draw iterations (1_000 + 20_000 draws total) took 11 seconds.\n",
      "Only one chain was sampled, this makes it impossible to run some convergence checks\n",
      "Auto-assigning NUTS sampler...\n",
      "Initializing NUTS using jitter+adapt_diag...\n",
      "Sequential sampling (1 chains in 1 job)\n",
      "NUTS: [beta0, beta1, stdev]\n"
     ]
    },
    {
     "data": {
      "text/plain": "<IPython.core.display.HTML object>",
      "text/html": "\n<style>\n    /* Turns off some styling */\n    progress {\n        /* gets rid of default border in Firefox and Opera. */\n        border: none;\n        /* Needs to be in here for Safari polyfill so background images work as expected. */\n        background-size: auto;\n    }\n    progress:not([value]), progress:not([value])::-webkit-progress-bar {\n        background: repeating-linear-gradient(45deg, #7e7e7e, #7e7e7e 10px, #5c5c5c 10px, #5c5c5c 20px);\n    }\n    .progress-bar-interrupted, .progress-bar-interrupted::-webkit-progress-bar {\n        background: #F44336;\n    }\n</style>\n"
     },
     "metadata": {},
     "output_type": "display_data"
    },
    {
     "data": {
      "text/plain": "<IPython.core.display.HTML object>",
      "text/html": "\n    <div>\n      <progress value='21000' class='' max='21000' style='width:300px; height:20px; vertical-align: middle;'></progress>\n      100.00% [21000/21000 00:13&lt;00:00 Sampling chain 0, 0 divergences]\n    </div>\n    "
     },
     "metadata": {},
     "output_type": "display_data"
    },
    {
     "name": "stderr",
     "output_type": "stream",
     "text": [
      "Sampling 1 chain for 1_000 tune and 20_000 draw iterations (1_000 + 20_000 draws total) took 14 seconds.\n",
      "Only one chain was sampled, this makes it impossible to run some convergence checks\n",
      "Auto-assigning NUTS sampler...\n",
      "Initializing NUTS using jitter+adapt_diag...\n",
      "Sequential sampling (1 chains in 1 job)\n",
      "NUTS: [beta0, beta1, stdev]\n"
     ]
    },
    {
     "data": {
      "text/plain": "<IPython.core.display.HTML object>",
      "text/html": "\n<style>\n    /* Turns off some styling */\n    progress {\n        /* gets rid of default border in Firefox and Opera. */\n        border: none;\n        /* Needs to be in here for Safari polyfill so background images work as expected. */\n        background-size: auto;\n    }\n    progress:not([value]), progress:not([value])::-webkit-progress-bar {\n        background: repeating-linear-gradient(45deg, #7e7e7e, #7e7e7e 10px, #5c5c5c 10px, #5c5c5c 20px);\n    }\n    .progress-bar-interrupted, .progress-bar-interrupted::-webkit-progress-bar {\n        background: #F44336;\n    }\n</style>\n"
     },
     "metadata": {},
     "output_type": "display_data"
    },
    {
     "data": {
      "text/plain": "<IPython.core.display.HTML object>",
      "text/html": "\n    <div>\n      <progress value='21000' class='' max='21000' style='width:300px; height:20px; vertical-align: middle;'></progress>\n      100.00% [21000/21000 00:12&lt;00:00 Sampling chain 0, 0 divergences]\n    </div>\n    "
     },
     "metadata": {},
     "output_type": "display_data"
    },
    {
     "name": "stderr",
     "output_type": "stream",
     "text": [
      "Sampling 1 chain for 1_000 tune and 20_000 draw iterations (1_000 + 20_000 draws total) took 12 seconds.\n",
      "Only one chain was sampled, this makes it impossible to run some convergence checks\n",
      "Auto-assigning NUTS sampler...\n",
      "Initializing NUTS using jitter+adapt_diag...\n",
      "Sequential sampling (1 chains in 1 job)\n",
      "NUTS: [beta0, beta1, stdev]\n"
     ]
    },
    {
     "data": {
      "text/plain": "<IPython.core.display.HTML object>",
      "text/html": "\n<style>\n    /* Turns off some styling */\n    progress {\n        /* gets rid of default border in Firefox and Opera. */\n        border: none;\n        /* Needs to be in here for Safari polyfill so background images work as expected. */\n        background-size: auto;\n    }\n    progress:not([value]), progress:not([value])::-webkit-progress-bar {\n        background: repeating-linear-gradient(45deg, #7e7e7e, #7e7e7e 10px, #5c5c5c 10px, #5c5c5c 20px);\n    }\n    .progress-bar-interrupted, .progress-bar-interrupted::-webkit-progress-bar {\n        background: #F44336;\n    }\n</style>\n"
     },
     "metadata": {},
     "output_type": "display_data"
    },
    {
     "data": {
      "text/plain": "<IPython.core.display.HTML object>",
      "text/html": "\n    <div>\n      <progress value='21000' class='' max='21000' style='width:300px; height:20px; vertical-align: middle;'></progress>\n      100.00% [21000/21000 00:15&lt;00:00 Sampling chain 0, 0 divergences]\n    </div>\n    "
     },
     "metadata": {},
     "output_type": "display_data"
    },
    {
     "name": "stderr",
     "output_type": "stream",
     "text": [
      "Sampling 1 chain for 1_000 tune and 20_000 draw iterations (1_000 + 20_000 draws total) took 15 seconds.\n",
      "Only one chain was sampled, this makes it impossible to run some convergence checks\n",
      "Auto-assigning NUTS sampler...\n",
      "Initializing NUTS using jitter+adapt_diag...\n",
      "Sequential sampling (1 chains in 1 job)\n",
      "NUTS: [beta0, beta1, stdev]\n"
     ]
    },
    {
     "data": {
      "text/plain": "<IPython.core.display.HTML object>",
      "text/html": "\n<style>\n    /* Turns off some styling */\n    progress {\n        /* gets rid of default border in Firefox and Opera. */\n        border: none;\n        /* Needs to be in here for Safari polyfill so background images work as expected. */\n        background-size: auto;\n    }\n    progress:not([value]), progress:not([value])::-webkit-progress-bar {\n        background: repeating-linear-gradient(45deg, #7e7e7e, #7e7e7e 10px, #5c5c5c 10px, #5c5c5c 20px);\n    }\n    .progress-bar-interrupted, .progress-bar-interrupted::-webkit-progress-bar {\n        background: #F44336;\n    }\n</style>\n"
     },
     "metadata": {},
     "output_type": "display_data"
    },
    {
     "data": {
      "text/plain": "<IPython.core.display.HTML object>",
      "text/html": "\n    <div>\n      <progress value='21000' class='' max='21000' style='width:300px; height:20px; vertical-align: middle;'></progress>\n      100.00% [21000/21000 00:13&lt;00:00 Sampling chain 0, 0 divergences]\n    </div>\n    "
     },
     "metadata": {},
     "output_type": "display_data"
    },
    {
     "name": "stderr",
     "output_type": "stream",
     "text": [
      "Sampling 1 chain for 1_000 tune and 20_000 draw iterations (1_000 + 20_000 draws total) took 13 seconds.\n",
      "Only one chain was sampled, this makes it impossible to run some convergence checks\n"
     ]
    }
   ],
   "source": [
    "model_dict = {}\n",
    "symbols = ['MINT.BK', 'BANPU.BK', 'TOP.BK', \n",
    "           'DELTA.BK', 'IRPC.BK', 'PTTGC.BK', \n",
    "           'WHA.BK', 'SCC.BK','CPN.BK', \n",
    "           'CENTEL.BK', 'PTT.BK', 'BCP.BK']\n",
    "# symbols = ['MINT.BK']\n",
    "for symbol in symbols:\n",
    "    with Model() as model:\n",
    "        beta0 = Normal('beta0', 0, 10)\n",
    "        beta1 = Normal('beta1', 0, 10)\n",
    "        # beta2 = Normal('beta2', 0, 10)\n",
    "        # beta3 = Normal('beta3', 0, 10)\n",
    "        # beta4 = Normal('beta4', 0, 10)\n",
    "        stdev = HalfNormal('stdev', 10)\n",
    "        X_l1 = pm.MutableData( 'lagged_X', stock_rets.loc[:, f'{symbol}_lag'].values)\n",
    "        R_l1 = pm.MutableData('lagged_R_l1', ext_factors.loc[:, 'mkt_lag'].values)\n",
    "        # R_l2 = pm.MutableData('lagged_R_l2', ext_factors.loc[:, 'E_lag'].values)\n",
    "        # R_l3 = pm.MutableData('lagged_R_l3', ext_factors.loc[:, 'S_lag'].values)\n",
    "        # R_l4 = pm.MutableData('lagged_R_l4', ext_factors.loc[:, 'G_lag'].values)\n",
    "        X = stock_rets.loc[:, symbol].values\n",
    "        mu = X_l1 * beta0 + R_l1 * beta1 # + R_l2 * beta2 + R_l3 * beta3 + R_l4 * beta4\n",
    "        obs = Normal('obs', mu=mu, sigma=stdev, observed=X)\n",
    "        ar_trace = sample(20000, chains=1)\n",
    "        model_dict[symbol] = ar_trace\n"
   ],
   "metadata": {
    "collapsed": false,
    "ExecuteTime": {
     "end_time": "2024-03-24T17:16:36.193508Z",
     "start_time": "2024-03-24T17:13:43.628033Z"
    }
   },
   "id": "f1b8c1b117cd840e",
   "execution_count": 3
  },
  {
   "cell_type": "code",
   "outputs": [],
   "source": [
    "import numpy as np\n",
    "def predict(X, model):\n",
    "    draw = model.posterior['draw'].shape[0]\n",
    "    \n",
    "    beta0_sample = model.posterior['beta0']\n",
    "    beta1_sample = model.posterior['beta1']\n",
    "    # beta2_sample = model.posterior['beta2']\n",
    "    # beta3_sample = model.posterior['beta3']\n",
    "    # beta4_sample = model.posterior['beta4']\n",
    "    next_period_return = (X.filter(like='.BK').iloc[-1, 0] * beta0_sample +\n",
    "                          X['mkt_lag'].iloc[-1] * beta1_sample)\n",
    "                          # X['E_lag'].iloc[-1] * beta2_sample + \n",
    "                          # X['S_lag'].iloc[-1] * beta3_sample + \n",
    "                          # X['G_lag'].iloc[-1] * beta4_sample)\n",
    "\n",
    "    next_period_return = np.array(next_period_return).reshape(draw, )\n",
    "    return next_period_return "
   ],
   "metadata": {
    "collapsed": false,
    "ExecuteTime": {
     "end_time": "2024-03-24T17:17:09.064793Z",
     "start_time": "2024-03-24T17:17:09.060030Z"
    }
   },
   "id": "d59967eebf9348e",
   "execution_count": 4
  },
  {
   "cell_type": "code",
   "outputs": [
    {
     "data": {
      "text/plain": "              AAV.BK   ADVANC.BK   AEONTS.BK      AH.BK   AMATA.BK     AOT.BK  \\\nDate                                                                            \n2015-01-05  3.572461  166.043442   82.875908   8.761683  12.529393  24.920393   \n2015-01-06  3.771853  164.709763   83.259590   8.698196  12.529393  24.829111   \n2015-01-07  3.805086  168.710800   83.643288   8.825176  12.529393  25.833227   \n2015-01-08  3.838319  166.710281   84.410652   8.888667  12.996328  26.380930   \n2015-01-09  3.921399  165.376602   84.410652   8.888667  12.996328  26.563498   \n...              ...         ...         ...        ...        ...        ...   \n2022-12-26  2.880000  180.750458  170.860962  27.210169  19.741316  73.307503   \n2022-12-27  3.020000  182.162567  174.733170  27.436922  20.033064  75.047005   \n2022-12-28  3.060000  182.633255  174.733170  26.756668  20.616550  75.047005   \n2022-12-29  3.060000  184.516083  176.185242  26.983419  20.908293  75.792503   \n2022-12-30  3.060000  183.574677  176.185242  26.983419  20.713797  74.550003   \n\n                AP.BK   ASIAN.BK    BAFS.BK   BANPU.BK  ...     TTA.BK  \\\nDate                                                    ...              \n2015-01-05   3.948691   0.886575  19.654974   9.821994  ...  14.421543   \n2015-01-06   3.915509   0.880287  19.977186   9.901848  ...  14.933551   \n2015-01-07   3.981873   0.886575  19.977186   9.981701  ...  14.848216   \n2015-01-08   4.114603   0.905438  19.977186   9.981701  ...  15.361932   \n2015-01-09   4.114603   0.899150  20.460505  10.181334  ...  15.189553   \n...               ...        ...        ...        ...  ...        ...   \n2022-12-26  10.911418  12.637019  29.672602  12.190159  ...   7.711340   \n2022-12-27  10.911418  12.732035  31.418049  12.099861  ...   7.805958   \n2022-12-28  11.006300  12.827049  31.168699  12.370753  ...   7.758649   \n2022-12-29  11.101181  12.732035  31.418049  12.370753  ...   7.805958   \n2022-12-30  11.006300  13.017079  31.667398  12.370753  ...   7.758649   \n\n              TTB.BK    TTCL.BK    TTW.BK      TU.BK     TVO.BK   TWPC.BK  \\\nDate                                                                        \n2015-01-05  1.891242  21.169041  6.563799  15.530849  11.395597  2.835512   \n2015-01-06  1.864416  21.259121  6.505195  14.966094  11.556857  2.823497   \n2015-01-07  1.904655  21.619448  6.446590  15.248470  11.449352  2.859542   \n2015-01-08  1.958308  21.799608  6.622406  15.601446  11.556857  2.883572   \n2015-01-09  1.958308  21.979771  6.622406  15.460255  11.503102  2.931631   \n...              ...        ...       ...        ...        ...       ...   \n2022-12-26  1.271752   4.396313  8.102434  15.521509  26.578030  4.915534   \n2022-12-27  1.281103   4.396313  8.147699  15.708515  26.578030  4.963257   \n2022-12-28  1.290454   4.396313  8.192964  15.615012  26.811171  4.963257   \n2022-12-29  1.299805   4.415853  8.238229  15.802018  26.578030  4.915534   \n2022-12-30  1.318507   4.415853  8.147699  15.802018  26.578030  4.963257   \n\n              UAC.BK    VGI.BK    WHA.BK  \nDate                                      \n2015-01-05  4.785787  4.915983  1.967089  \n2015-01-06  4.753666  4.958362  1.903635  \n2015-01-07  4.817905  5.000742  1.951225  \n2015-01-08  4.850025  5.000742  1.967089  \n2015-01-09  4.850025  5.000742  1.935362  \n...              ...       ...       ...  \n2022-12-26  4.272338  4.082740  3.743514  \n2022-12-27  4.327584  4.121809  3.801403  \n2022-12-28  4.309169  4.141344  3.955775  \n2022-12-29  4.309169  4.239017  3.975071  \n2022-12-30  4.401245  4.297622  3.936478  \n\n[1944 rows x 119 columns]",
      "text/html": "<div>\n<style scoped>\n    .dataframe tbody tr th:only-of-type {\n        vertical-align: middle;\n    }\n\n    .dataframe tbody tr th {\n        vertical-align: top;\n    }\n\n    .dataframe thead th {\n        text-align: right;\n    }\n</style>\n<table border=\"1\" class=\"dataframe\">\n  <thead>\n    <tr style=\"text-align: right;\">\n      <th></th>\n      <th>AAV.BK</th>\n      <th>ADVANC.BK</th>\n      <th>AEONTS.BK</th>\n      <th>AH.BK</th>\n      <th>AMATA.BK</th>\n      <th>AOT.BK</th>\n      <th>AP.BK</th>\n      <th>ASIAN.BK</th>\n      <th>BAFS.BK</th>\n      <th>BANPU.BK</th>\n      <th>...</th>\n      <th>TTA.BK</th>\n      <th>TTB.BK</th>\n      <th>TTCL.BK</th>\n      <th>TTW.BK</th>\n      <th>TU.BK</th>\n      <th>TVO.BK</th>\n      <th>TWPC.BK</th>\n      <th>UAC.BK</th>\n      <th>VGI.BK</th>\n      <th>WHA.BK</th>\n    </tr>\n    <tr>\n      <th>Date</th>\n      <th></th>\n      <th></th>\n      <th></th>\n      <th></th>\n      <th></th>\n      <th></th>\n      <th></th>\n      <th></th>\n      <th></th>\n      <th></th>\n      <th></th>\n      <th></th>\n      <th></th>\n      <th></th>\n      <th></th>\n      <th></th>\n      <th></th>\n      <th></th>\n      <th></th>\n      <th></th>\n      <th></th>\n    </tr>\n  </thead>\n  <tbody>\n    <tr>\n      <th>2015-01-05</th>\n      <td>3.572461</td>\n      <td>166.043442</td>\n      <td>82.875908</td>\n      <td>8.761683</td>\n      <td>12.529393</td>\n      <td>24.920393</td>\n      <td>3.948691</td>\n      <td>0.886575</td>\n      <td>19.654974</td>\n      <td>9.821994</td>\n      <td>...</td>\n      <td>14.421543</td>\n      <td>1.891242</td>\n      <td>21.169041</td>\n      <td>6.563799</td>\n      <td>15.530849</td>\n      <td>11.395597</td>\n      <td>2.835512</td>\n      <td>4.785787</td>\n      <td>4.915983</td>\n      <td>1.967089</td>\n    </tr>\n    <tr>\n      <th>2015-01-06</th>\n      <td>3.771853</td>\n      <td>164.709763</td>\n      <td>83.259590</td>\n      <td>8.698196</td>\n      <td>12.529393</td>\n      <td>24.829111</td>\n      <td>3.915509</td>\n      <td>0.880287</td>\n      <td>19.977186</td>\n      <td>9.901848</td>\n      <td>...</td>\n      <td>14.933551</td>\n      <td>1.864416</td>\n      <td>21.259121</td>\n      <td>6.505195</td>\n      <td>14.966094</td>\n      <td>11.556857</td>\n      <td>2.823497</td>\n      <td>4.753666</td>\n      <td>4.958362</td>\n      <td>1.903635</td>\n    </tr>\n    <tr>\n      <th>2015-01-07</th>\n      <td>3.805086</td>\n      <td>168.710800</td>\n      <td>83.643288</td>\n      <td>8.825176</td>\n      <td>12.529393</td>\n      <td>25.833227</td>\n      <td>3.981873</td>\n      <td>0.886575</td>\n      <td>19.977186</td>\n      <td>9.981701</td>\n      <td>...</td>\n      <td>14.848216</td>\n      <td>1.904655</td>\n      <td>21.619448</td>\n      <td>6.446590</td>\n      <td>15.248470</td>\n      <td>11.449352</td>\n      <td>2.859542</td>\n      <td>4.817905</td>\n      <td>5.000742</td>\n      <td>1.951225</td>\n    </tr>\n    <tr>\n      <th>2015-01-08</th>\n      <td>3.838319</td>\n      <td>166.710281</td>\n      <td>84.410652</td>\n      <td>8.888667</td>\n      <td>12.996328</td>\n      <td>26.380930</td>\n      <td>4.114603</td>\n      <td>0.905438</td>\n      <td>19.977186</td>\n      <td>9.981701</td>\n      <td>...</td>\n      <td>15.361932</td>\n      <td>1.958308</td>\n      <td>21.799608</td>\n      <td>6.622406</td>\n      <td>15.601446</td>\n      <td>11.556857</td>\n      <td>2.883572</td>\n      <td>4.850025</td>\n      <td>5.000742</td>\n      <td>1.967089</td>\n    </tr>\n    <tr>\n      <th>2015-01-09</th>\n      <td>3.921399</td>\n      <td>165.376602</td>\n      <td>84.410652</td>\n      <td>8.888667</td>\n      <td>12.996328</td>\n      <td>26.563498</td>\n      <td>4.114603</td>\n      <td>0.899150</td>\n      <td>20.460505</td>\n      <td>10.181334</td>\n      <td>...</td>\n      <td>15.189553</td>\n      <td>1.958308</td>\n      <td>21.979771</td>\n      <td>6.622406</td>\n      <td>15.460255</td>\n      <td>11.503102</td>\n      <td>2.931631</td>\n      <td>4.850025</td>\n      <td>5.000742</td>\n      <td>1.935362</td>\n    </tr>\n    <tr>\n      <th>...</th>\n      <td>...</td>\n      <td>...</td>\n      <td>...</td>\n      <td>...</td>\n      <td>...</td>\n      <td>...</td>\n      <td>...</td>\n      <td>...</td>\n      <td>...</td>\n      <td>...</td>\n      <td>...</td>\n      <td>...</td>\n      <td>...</td>\n      <td>...</td>\n      <td>...</td>\n      <td>...</td>\n      <td>...</td>\n      <td>...</td>\n      <td>...</td>\n      <td>...</td>\n      <td>...</td>\n    </tr>\n    <tr>\n      <th>2022-12-26</th>\n      <td>2.880000</td>\n      <td>180.750458</td>\n      <td>170.860962</td>\n      <td>27.210169</td>\n      <td>19.741316</td>\n      <td>73.307503</td>\n      <td>10.911418</td>\n      <td>12.637019</td>\n      <td>29.672602</td>\n      <td>12.190159</td>\n      <td>...</td>\n      <td>7.711340</td>\n      <td>1.271752</td>\n      <td>4.396313</td>\n      <td>8.102434</td>\n      <td>15.521509</td>\n      <td>26.578030</td>\n      <td>4.915534</td>\n      <td>4.272338</td>\n      <td>4.082740</td>\n      <td>3.743514</td>\n    </tr>\n    <tr>\n      <th>2022-12-27</th>\n      <td>3.020000</td>\n      <td>182.162567</td>\n      <td>174.733170</td>\n      <td>27.436922</td>\n      <td>20.033064</td>\n      <td>75.047005</td>\n      <td>10.911418</td>\n      <td>12.732035</td>\n      <td>31.418049</td>\n      <td>12.099861</td>\n      <td>...</td>\n      <td>7.805958</td>\n      <td>1.281103</td>\n      <td>4.396313</td>\n      <td>8.147699</td>\n      <td>15.708515</td>\n      <td>26.578030</td>\n      <td>4.963257</td>\n      <td>4.327584</td>\n      <td>4.121809</td>\n      <td>3.801403</td>\n    </tr>\n    <tr>\n      <th>2022-12-28</th>\n      <td>3.060000</td>\n      <td>182.633255</td>\n      <td>174.733170</td>\n      <td>26.756668</td>\n      <td>20.616550</td>\n      <td>75.047005</td>\n      <td>11.006300</td>\n      <td>12.827049</td>\n      <td>31.168699</td>\n      <td>12.370753</td>\n      <td>...</td>\n      <td>7.758649</td>\n      <td>1.290454</td>\n      <td>4.396313</td>\n      <td>8.192964</td>\n      <td>15.615012</td>\n      <td>26.811171</td>\n      <td>4.963257</td>\n      <td>4.309169</td>\n      <td>4.141344</td>\n      <td>3.955775</td>\n    </tr>\n    <tr>\n      <th>2022-12-29</th>\n      <td>3.060000</td>\n      <td>184.516083</td>\n      <td>176.185242</td>\n      <td>26.983419</td>\n      <td>20.908293</td>\n      <td>75.792503</td>\n      <td>11.101181</td>\n      <td>12.732035</td>\n      <td>31.418049</td>\n      <td>12.370753</td>\n      <td>...</td>\n      <td>7.805958</td>\n      <td>1.299805</td>\n      <td>4.415853</td>\n      <td>8.238229</td>\n      <td>15.802018</td>\n      <td>26.578030</td>\n      <td>4.915534</td>\n      <td>4.309169</td>\n      <td>4.239017</td>\n      <td>3.975071</td>\n    </tr>\n    <tr>\n      <th>2022-12-30</th>\n      <td>3.060000</td>\n      <td>183.574677</td>\n      <td>176.185242</td>\n      <td>26.983419</td>\n      <td>20.713797</td>\n      <td>74.550003</td>\n      <td>11.006300</td>\n      <td>13.017079</td>\n      <td>31.667398</td>\n      <td>12.370753</td>\n      <td>...</td>\n      <td>7.758649</td>\n      <td>1.318507</td>\n      <td>4.415853</td>\n      <td>8.147699</td>\n      <td>15.802018</td>\n      <td>26.578030</td>\n      <td>4.963257</td>\n      <td>4.401245</td>\n      <td>4.297622</td>\n      <td>3.936478</td>\n    </tr>\n  </tbody>\n</table>\n<p>1944 rows × 119 columns</p>\n</div>"
     },
     "execution_count": 24,
     "metadata": {},
     "output_type": "execute_result"
    }
   ],
   "source": [
    "stock_prices"
   ],
   "metadata": {
    "collapsed": false,
    "ExecuteTime": {
     "end_time": "2024-03-24T13:07:49.739200Z",
     "start_time": "2024-03-24T13:07:49.722317Z"
    }
   },
   "id": "8ca48d8880504f5f",
   "execution_count": 24
  },
  {
   "cell_type": "code",
   "outputs": [
    {
     "name": "stderr",
     "output_type": "stream",
     "text": [
      "[*********************100%%**********************]  12 of 12 completed\n"
     ]
    },
    {
     "data": {
      "text/plain": "Ticker       BANPU.BK     BCP.BK  CENTEL.BK     CPN.BK   DELTA.BK   IRPC.BK  \\\nDate                                                                          \n2023-01-03  12.099861  29.105591      51.00  68.074379  91.994225  2.886981   \n2023-01-04  11.558077  28.412600      52.00  68.313232  90.213692  2.847967   \n2023-01-05  11.558077  28.181604      51.25  67.357811  79.728325  2.867474   \n2023-01-06  11.106588  28.181604      51.50  68.074379  79.926170  2.867474   \n2023-01-09  11.287184  28.874594      51.50  67.835526  83.289391  2.906487   \n\nTicker        MINT.BK     PTT.BK   PTTGC.BK      SCC.BK     TOP.BK    WHA.BK  \nDate                                                                          \n2023-01-03  31.997322  30.188902  45.603874  337.165314  50.821960  4.052257  \n2023-01-04  32.243454  29.497553  45.847744  340.122925  49.226654  3.955774  \n2023-01-05  32.735722  29.728003  45.360001  344.066376  49.226654  3.878589  \n2023-01-06  32.981857  29.958452  45.116131  345.052246  49.226654  3.917182  \n2023-01-09  32.981857  30.419350  46.335484  347.023956  49.682453  3.897885  ",
      "text/html": "<div>\n<style scoped>\n    .dataframe tbody tr th:only-of-type {\n        vertical-align: middle;\n    }\n\n    .dataframe tbody tr th {\n        vertical-align: top;\n    }\n\n    .dataframe thead th {\n        text-align: right;\n    }\n</style>\n<table border=\"1\" class=\"dataframe\">\n  <thead>\n    <tr style=\"text-align: right;\">\n      <th>Ticker</th>\n      <th>BANPU.BK</th>\n      <th>BCP.BK</th>\n      <th>CENTEL.BK</th>\n      <th>CPN.BK</th>\n      <th>DELTA.BK</th>\n      <th>IRPC.BK</th>\n      <th>MINT.BK</th>\n      <th>PTT.BK</th>\n      <th>PTTGC.BK</th>\n      <th>SCC.BK</th>\n      <th>TOP.BK</th>\n      <th>WHA.BK</th>\n    </tr>\n    <tr>\n      <th>Date</th>\n      <th></th>\n      <th></th>\n      <th></th>\n      <th></th>\n      <th></th>\n      <th></th>\n      <th></th>\n      <th></th>\n      <th></th>\n      <th></th>\n      <th></th>\n      <th></th>\n    </tr>\n  </thead>\n  <tbody>\n    <tr>\n      <th>2023-01-03</th>\n      <td>12.099861</td>\n      <td>29.105591</td>\n      <td>51.00</td>\n      <td>68.074379</td>\n      <td>91.994225</td>\n      <td>2.886981</td>\n      <td>31.997322</td>\n      <td>30.188902</td>\n      <td>45.603874</td>\n      <td>337.165314</td>\n      <td>50.821960</td>\n      <td>4.052257</td>\n    </tr>\n    <tr>\n      <th>2023-01-04</th>\n      <td>11.558077</td>\n      <td>28.412600</td>\n      <td>52.00</td>\n      <td>68.313232</td>\n      <td>90.213692</td>\n      <td>2.847967</td>\n      <td>32.243454</td>\n      <td>29.497553</td>\n      <td>45.847744</td>\n      <td>340.122925</td>\n      <td>49.226654</td>\n      <td>3.955774</td>\n    </tr>\n    <tr>\n      <th>2023-01-05</th>\n      <td>11.558077</td>\n      <td>28.181604</td>\n      <td>51.25</td>\n      <td>67.357811</td>\n      <td>79.728325</td>\n      <td>2.867474</td>\n      <td>32.735722</td>\n      <td>29.728003</td>\n      <td>45.360001</td>\n      <td>344.066376</td>\n      <td>49.226654</td>\n      <td>3.878589</td>\n    </tr>\n    <tr>\n      <th>2023-01-06</th>\n      <td>11.106588</td>\n      <td>28.181604</td>\n      <td>51.50</td>\n      <td>68.074379</td>\n      <td>79.926170</td>\n      <td>2.867474</td>\n      <td>32.981857</td>\n      <td>29.958452</td>\n      <td>45.116131</td>\n      <td>345.052246</td>\n      <td>49.226654</td>\n      <td>3.917182</td>\n    </tr>\n    <tr>\n      <th>2023-01-09</th>\n      <td>11.287184</td>\n      <td>28.874594</td>\n      <td>51.50</td>\n      <td>67.835526</td>\n      <td>83.289391</td>\n      <td>2.906487</td>\n      <td>32.981857</td>\n      <td>30.419350</td>\n      <td>46.335484</td>\n      <td>347.023956</td>\n      <td>49.682453</td>\n      <td>3.897885</td>\n    </tr>\n  </tbody>\n</table>\n</div>"
     },
     "execution_count": 5,
     "metadata": {},
     "output_type": "execute_result"
    }
   ],
   "source": [
    "start_date = '2023-01-01'\n",
    "end_date = '2023-01-31'\n",
    "portfolio =  yf.download(symbols, start=start_date, end=end_date)['Adj Close']\n",
    "portfolio.head()"
   ],
   "metadata": {
    "collapsed": false,
    "ExecuteTime": {
     "end_time": "2024-03-24T17:18:20.962847Z",
     "start_time": "2024-03-24T17:18:19.434594Z"
    }
   },
   "id": "acfaded254fea0fd",
   "execution_count": 5
  },
  {
   "cell_type": "code",
   "outputs": [
    {
     "name": "stderr",
     "output_type": "stream",
     "text": [
      "[*********************100%%**********************]  1 of 1 completed\n"
     ]
    },
    {
     "data": {
      "text/plain": "Date\n2015-01-05    1483.250000\n2015-01-06    1477.579956\n2015-01-07    1500.750000\n2015-01-08    1521.619995\n2015-01-09    1529.420044\nName: Adj Close, dtype: float64"
     },
     "execution_count": 6,
     "metadata": {},
     "output_type": "execute_result"
    }
   ],
   "source": [
    "market_prices = yf.download(\"^SET.BK\", start=start, end=end)['Adj Close']\n",
    "market_prices.head()\n"
   ],
   "metadata": {
    "collapsed": false,
    "ExecuteTime": {
     "end_time": "2024-03-24T17:18:29.331639Z",
     "start_time": "2024-03-24T17:18:29.184108Z"
    }
   },
   "id": "a14cf4484081037a",
   "execution_count": 6
  },
  {
   "cell_type": "code",
   "outputs": [
    {
     "data": {
      "text/plain": "{'MINT.BK': 189944332288,\n 'BANPU.BK': 55604895744,\n 'TOP.BK': 132355031040,\n 'DELTA.BK': 907468931072,\n 'IRPC.BK': 38984245248,\n 'PTTGC.BK': 175845163008,\n 'WHA.BK': 72043577344,\n 'SCC.BK': 302400012288,\n 'CPN.BK': 286109990912,\n 'CENTEL.BK': 60412502016,\n 'PTT.BK': 971142004736,\n 'BCP.BK': 61961404416}"
     },
     "execution_count": 7,
     "metadata": {},
     "output_type": "execute_result"
    }
   ],
   "source": [
    "mcaps = {}\n",
    "for t in symbols:\n",
    "    stock = yf.Ticker(t)\n",
    "    mcaps[t] = stock.info[\"marketCap\"]\n",
    "mcaps"
   ],
   "metadata": {
    "collapsed": false,
    "ExecuteTime": {
     "end_time": "2024-03-24T17:18:31.236799Z",
     "start_time": "2024-03-24T17:18:30.180118Z"
    }
   },
   "id": "67b20585451474e9",
   "execution_count": 7
  },
  {
   "cell_type": "code",
   "outputs": [
    {
     "data": {
      "text/plain": "0.2986349177629837"
     },
     "execution_count": 8,
     "metadata": {},
     "output_type": "execute_result"
    }
   ],
   "source": [
    "S = risk_models.CovarianceShrinkage(portfolio).ledoit_wolf()\n",
    "\n",
    "delta = black_litterman.market_implied_risk_aversion(market_prices)\n",
    "delta"
   ],
   "metadata": {
    "collapsed": false,
    "ExecuteTime": {
     "end_time": "2024-03-24T17:18:32.085008Z",
     "start_time": "2024-03-24T17:18:31.812843Z"
    }
   },
   "id": "4d0856c367b1b211",
   "execution_count": 8
  },
  {
   "cell_type": "code",
   "outputs": [
    {
     "data": {
      "text/plain": "Ticker     BANPU.BK    BCP.BK  CENTEL.BK    CPN.BK  DELTA.BK   IRPC.BK  \\\nTicker                                                                   \nBANPU.BK   0.082253  0.017468  -0.007190 -0.007722 -0.005369  0.002412   \nBCP.BK     0.017468  0.146968   0.004081 -0.004508 -0.002541  0.019834   \nCENTEL.BK -0.007190  0.004081   0.068019  0.005364  0.004558 -0.001892   \nCPN.BK    -0.007722 -0.004508   0.005364  0.061180  0.012127 -0.002807   \nDELTA.BK  -0.005369 -0.002541   0.004558  0.012127  0.167111  0.003282   \nIRPC.BK    0.002412  0.019834  -0.001892 -0.002807  0.003282  0.072351   \nMINT.BK   -0.004620  0.000831   0.001390  0.001508 -0.010591  0.002219   \nPTT.BK     0.002946  0.009599  -0.002911 -0.001407  0.006226  0.007656   \nPTTGC.BK   0.002060  0.005313   0.001783 -0.002645  0.013243  0.016825   \nSCC.BK    -0.000652 -0.000783  -0.002062  0.000082 -0.005756  0.005200   \nTOP.BK     0.011430  0.003366  -0.004901 -0.001471  0.005693  0.008276   \nWHA.BK    -0.006837 -0.006686  -0.001287  0.007463  0.021235 -0.003629   \n\nTicker      MINT.BK    PTT.BK  PTTGC.BK    SCC.BK    TOP.BK    WHA.BK  \nTicker                                                                 \nBANPU.BK  -0.004620  0.002946  0.002060 -0.000652  0.011430 -0.006837  \nBCP.BK     0.000831  0.009599  0.005313 -0.000783  0.003366 -0.006686  \nCENTEL.BK  0.001390 -0.002911  0.001783 -0.002062 -0.004901 -0.001287  \nCPN.BK     0.001508 -0.001407 -0.002645  0.000082 -0.001471  0.007463  \nDELTA.BK  -0.010591  0.006226  0.013243 -0.005756  0.005693  0.021235  \nIRPC.BK    0.002219  0.007656  0.016825  0.005200  0.008276 -0.003629  \nMINT.BK    0.065023  0.000946 -0.001566 -0.004140 -0.003453 -0.002855  \nPTT.BK     0.000946  0.060058  0.004827  0.001296  0.004573  0.003392  \nPTTGC.BK  -0.001566  0.004827  0.086863  0.012091  0.011325 -0.001935  \nSCC.BK    -0.004140  0.001296  0.012091  0.066179  0.005058  0.002442  \nTOP.BK    -0.003453  0.004573  0.011325  0.005058  0.072070  0.004004  \nWHA.BK    -0.002855  0.003392 -0.001935  0.002442  0.004004  0.071464  ",
      "text/html": "<div>\n<style scoped>\n    .dataframe tbody tr th:only-of-type {\n        vertical-align: middle;\n    }\n\n    .dataframe tbody tr th {\n        vertical-align: top;\n    }\n\n    .dataframe thead th {\n        text-align: right;\n    }\n</style>\n<table border=\"1\" class=\"dataframe\">\n  <thead>\n    <tr style=\"text-align: right;\">\n      <th>Ticker</th>\n      <th>BANPU.BK</th>\n      <th>BCP.BK</th>\n      <th>CENTEL.BK</th>\n      <th>CPN.BK</th>\n      <th>DELTA.BK</th>\n      <th>IRPC.BK</th>\n      <th>MINT.BK</th>\n      <th>PTT.BK</th>\n      <th>PTTGC.BK</th>\n      <th>SCC.BK</th>\n      <th>TOP.BK</th>\n      <th>WHA.BK</th>\n    </tr>\n    <tr>\n      <th>Ticker</th>\n      <th></th>\n      <th></th>\n      <th></th>\n      <th></th>\n      <th></th>\n      <th></th>\n      <th></th>\n      <th></th>\n      <th></th>\n      <th></th>\n      <th></th>\n      <th></th>\n    </tr>\n  </thead>\n  <tbody>\n    <tr>\n      <th>BANPU.BK</th>\n      <td>0.082253</td>\n      <td>0.017468</td>\n      <td>-0.007190</td>\n      <td>-0.007722</td>\n      <td>-0.005369</td>\n      <td>0.002412</td>\n      <td>-0.004620</td>\n      <td>0.002946</td>\n      <td>0.002060</td>\n      <td>-0.000652</td>\n      <td>0.011430</td>\n      <td>-0.006837</td>\n    </tr>\n    <tr>\n      <th>BCP.BK</th>\n      <td>0.017468</td>\n      <td>0.146968</td>\n      <td>0.004081</td>\n      <td>-0.004508</td>\n      <td>-0.002541</td>\n      <td>0.019834</td>\n      <td>0.000831</td>\n      <td>0.009599</td>\n      <td>0.005313</td>\n      <td>-0.000783</td>\n      <td>0.003366</td>\n      <td>-0.006686</td>\n    </tr>\n    <tr>\n      <th>CENTEL.BK</th>\n      <td>-0.007190</td>\n      <td>0.004081</td>\n      <td>0.068019</td>\n      <td>0.005364</td>\n      <td>0.004558</td>\n      <td>-0.001892</td>\n      <td>0.001390</td>\n      <td>-0.002911</td>\n      <td>0.001783</td>\n      <td>-0.002062</td>\n      <td>-0.004901</td>\n      <td>-0.001287</td>\n    </tr>\n    <tr>\n      <th>CPN.BK</th>\n      <td>-0.007722</td>\n      <td>-0.004508</td>\n      <td>0.005364</td>\n      <td>0.061180</td>\n      <td>0.012127</td>\n      <td>-0.002807</td>\n      <td>0.001508</td>\n      <td>-0.001407</td>\n      <td>-0.002645</td>\n      <td>0.000082</td>\n      <td>-0.001471</td>\n      <td>0.007463</td>\n    </tr>\n    <tr>\n      <th>DELTA.BK</th>\n      <td>-0.005369</td>\n      <td>-0.002541</td>\n      <td>0.004558</td>\n      <td>0.012127</td>\n      <td>0.167111</td>\n      <td>0.003282</td>\n      <td>-0.010591</td>\n      <td>0.006226</td>\n      <td>0.013243</td>\n      <td>-0.005756</td>\n      <td>0.005693</td>\n      <td>0.021235</td>\n    </tr>\n    <tr>\n      <th>IRPC.BK</th>\n      <td>0.002412</td>\n      <td>0.019834</td>\n      <td>-0.001892</td>\n      <td>-0.002807</td>\n      <td>0.003282</td>\n      <td>0.072351</td>\n      <td>0.002219</td>\n      <td>0.007656</td>\n      <td>0.016825</td>\n      <td>0.005200</td>\n      <td>0.008276</td>\n      <td>-0.003629</td>\n    </tr>\n    <tr>\n      <th>MINT.BK</th>\n      <td>-0.004620</td>\n      <td>0.000831</td>\n      <td>0.001390</td>\n      <td>0.001508</td>\n      <td>-0.010591</td>\n      <td>0.002219</td>\n      <td>0.065023</td>\n      <td>0.000946</td>\n      <td>-0.001566</td>\n      <td>-0.004140</td>\n      <td>-0.003453</td>\n      <td>-0.002855</td>\n    </tr>\n    <tr>\n      <th>PTT.BK</th>\n      <td>0.002946</td>\n      <td>0.009599</td>\n      <td>-0.002911</td>\n      <td>-0.001407</td>\n      <td>0.006226</td>\n      <td>0.007656</td>\n      <td>0.000946</td>\n      <td>0.060058</td>\n      <td>0.004827</td>\n      <td>0.001296</td>\n      <td>0.004573</td>\n      <td>0.003392</td>\n    </tr>\n    <tr>\n      <th>PTTGC.BK</th>\n      <td>0.002060</td>\n      <td>0.005313</td>\n      <td>0.001783</td>\n      <td>-0.002645</td>\n      <td>0.013243</td>\n      <td>0.016825</td>\n      <td>-0.001566</td>\n      <td>0.004827</td>\n      <td>0.086863</td>\n      <td>0.012091</td>\n      <td>0.011325</td>\n      <td>-0.001935</td>\n    </tr>\n    <tr>\n      <th>SCC.BK</th>\n      <td>-0.000652</td>\n      <td>-0.000783</td>\n      <td>-0.002062</td>\n      <td>0.000082</td>\n      <td>-0.005756</td>\n      <td>0.005200</td>\n      <td>-0.004140</td>\n      <td>0.001296</td>\n      <td>0.012091</td>\n      <td>0.066179</td>\n      <td>0.005058</td>\n      <td>0.002442</td>\n    </tr>\n    <tr>\n      <th>TOP.BK</th>\n      <td>0.011430</td>\n      <td>0.003366</td>\n      <td>-0.004901</td>\n      <td>-0.001471</td>\n      <td>0.005693</td>\n      <td>0.008276</td>\n      <td>-0.003453</td>\n      <td>0.004573</td>\n      <td>0.011325</td>\n      <td>0.005058</td>\n      <td>0.072070</td>\n      <td>0.004004</td>\n    </tr>\n    <tr>\n      <th>WHA.BK</th>\n      <td>-0.006837</td>\n      <td>-0.006686</td>\n      <td>-0.001287</td>\n      <td>0.007463</td>\n      <td>0.021235</td>\n      <td>-0.003629</td>\n      <td>-0.002855</td>\n      <td>0.003392</td>\n      <td>-0.001935</td>\n      <td>0.002442</td>\n      <td>0.004004</td>\n      <td>0.071464</td>\n    </tr>\n  </tbody>\n</table>\n</div>"
     },
     "execution_count": 23,
     "metadata": {},
     "output_type": "execute_result"
    }
   ],
   "source": [
    "S"
   ],
   "metadata": {
    "collapsed": false,
    "ExecuteTime": {
     "end_time": "2024-03-24T17:31:49.032047Z",
     "start_time": "2024-03-24T17:31:49.019597Z"
    }
   },
   "id": "50800bbe124bf04f",
   "execution_count": 23
  },
  {
   "cell_type": "code",
   "outputs": [
    {
     "data": {
      "text/plain": "Ticker\nBANPU.BK     0.020129\nBCP.BK       0.021619\nCENTEL.BK    0.020546\nCPN.BK       0.022463\nDELTA.BK     0.034864\nIRPC.BK      0.021786\nMINT.BK      0.020171\nPTT.BK       0.026123\nPTTGC.BK     0.023409\nSCC.BK       0.021675\nTOP.BK       0.022088\nWHA.BK       0.022681\ndtype: float64"
     },
     "execution_count": 9,
     "metadata": {},
     "output_type": "execute_result"
    }
   ],
   "source": [
    "market_prior = black_litterman.market_implied_prior_returns(mcaps, delta, S)\n",
    "market_prior\n"
   ],
   "metadata": {
    "collapsed": false,
    "ExecuteTime": {
     "end_time": "2024-03-24T17:18:32.561005Z",
     "start_time": "2024-03-24T17:18:32.552287Z"
    }
   },
   "id": "93552f1d6a9aac20",
   "execution_count": 9
  },
  {
   "cell_type": "code",
   "outputs": [
    {
     "data": {
      "text/plain": "<Figure size 1000x500 with 1 Axes>",
      "image/png": "[encoded data removed]"
     },
     "metadata": {},
     "output_type": "display_data"
    }
   ],
   "source": [
    "market_prior.plot.barh(figsize=(10,5));\n"
   ],
   "metadata": {
    "collapsed": false,
    "ExecuteTime": {
     "end_time": "2024-03-24T17:18:33.623734Z",
     "start_time": "2024-03-24T17:18:33.477857Z"
    }
   },
   "id": "70fb85bf74c21303",
   "execution_count": 10
  },
  {
   "cell_type": "code",
   "outputs": [
    {
     "data": {
      "text/plain": "Ticker       BANPU.BK     BCP.BK  CENTEL.BK     CPN.BK   DELTA.BK   IRPC.BK  \\\nDate                                                                          \n2023-01-03  12.099861  29.105591      51.00  68.074379  91.994225  2.886981   \n2023-01-04  11.558077  28.412600      52.00  68.313232  90.213692  2.847967   \n2023-01-05  11.558077  28.181604      51.25  67.357811  79.728325  2.867474   \n2023-01-06  11.106588  28.181604      51.50  68.074379  79.926170  2.867474   \n2023-01-09  11.287184  28.874594      51.50  67.835526  83.289391  2.906487   \n2023-01-10  11.287184  29.567585      50.50  66.880089  82.300201  3.023527   \n2023-01-11  11.196886  29.336588      50.00  66.641235  84.080742  2.984514   \n2023-01-12  11.106588  31.877550      50.00  66.880089  86.256950  3.043033   \n2023-01-13  11.287184  34.880508      51.00  66.402382  82.102371  3.062540   \n2023-01-16  11.196886  34.880508      50.75  65.924660  83.487236  3.062540   \n2023-01-17  11.196886  34.649517      51.50  65.924660  83.289391  3.043033   \n2023-01-18  11.196886  33.725529      51.50  65.685806  85.069923  3.082047   \n2023-01-19  11.106588  33.956520      51.25  66.402382  85.267761  3.062540   \n2023-01-20  11.467779  33.956520      50.00  65.685806  85.069923  3.004020   \n2023-01-23  11.287184  34.418514      50.75  65.685806  88.037483  3.062540   \n2023-01-24  11.287184  33.956520      51.75  66.641235  87.443977  3.043033   \n2023-01-25  11.287184  33.956520      52.25  66.880089  88.433159  3.023527   \n2023-01-26  11.106588  33.725529      52.00  66.641235  86.850464  2.984514   \n2023-01-27  11.106588  34.418514      52.00  67.357811  86.256950  3.023527   \n2023-01-30  10.835696  33.956520      52.00  68.790955  88.828835  3.023527   \n\nTicker        MINT.BK     PTT.BK   PTTGC.BK      SCC.BK     TOP.BK    WHA.BK  \nDate                                                                          \n2023-01-03  31.997322  30.188902  45.603874  337.165314  50.821960  4.052257  \n2023-01-04  32.243454  29.497553  45.847744  340.122925  49.226654  3.955774  \n2023-01-05  32.735722  29.728003  45.360001  344.066376  49.226654  3.878589  \n2023-01-06  32.981857  29.958452  45.116131  345.052246  49.226654  3.917182  \n2023-01-09  32.981857  30.419350  46.335484  347.023956  49.682453  3.897885  \n2023-01-10  33.227985  30.649801  49.018066  352.939178  50.594063  3.820699  \n2023-01-11  33.227985  30.880251  49.261936  353.925018  50.594063  3.897885  \n2023-01-12  33.474121  31.110703  49.018066  350.967407  50.138260  3.859292  \n2023-01-13  33.474121  31.110703  48.774197  349.981567  50.138260  3.782107  \n2023-01-16  33.227985  31.110703  49.018066  348.995697  51.277767  3.801403  \n2023-01-17  32.243454  30.880251  50.237419  353.925018  51.733566  3.782107  \n2023-01-18  32.243454  30.880251  50.237419  350.967407  52.417274  3.704921  \n2023-01-19  32.489590  30.880251  49.993549  350.967407  52.873070  3.762810  \n2023-01-20  31.997322  30.649801  48.774197  349.981567  53.100975  3.704921  \n2023-01-23  31.997322  31.110703  49.505806  348.009857  53.328876  3.704921  \n2023-01-24  32.735722  30.880251  49.749680  343.080536  53.556778  3.685624  \n2023-01-25  33.227985  30.880251  49.993549  340.122925  53.556778  3.627735  \n2023-01-26  33.474121  30.649801  48.530323  329.278442  52.873070  3.589142  \n2023-01-27  33.474121  30.649801  49.261936  335.193604  54.924187  3.608438  \n2023-01-30  33.227985  30.649801  48.774197  339.137054  54.468384  3.685624  ",
      "text/html": "<div>\n<style scoped>\n    .dataframe tbody tr th:only-of-type {\n        vertical-align: middle;\n    }\n\n    .dataframe tbody tr th {\n        vertical-align: top;\n    }\n\n    .dataframe thead th {\n        text-align: right;\n    }\n</style>\n<table border=\"1\" class=\"dataframe\">\n  <thead>\n    <tr style=\"text-align: right;\">\n      <th>Ticker</th>\n      <th>BANPU.BK</th>\n      <th>BCP.BK</th>\n      <th>CENTEL.BK</th>\n      <th>CPN.BK</th>\n      <th>DELTA.BK</th>\n      <th>IRPC.BK</th>\n      <th>MINT.BK</th>\n      <th>PTT.BK</th>\n      <th>PTTGC.BK</th>\n      <th>SCC.BK</th>\n      <th>TOP.BK</th>\n      <th>WHA.BK</th>\n    </tr>\n    <tr>\n      <th>Date</th>\n      <th></th>\n      <th></th>\n      <th></th>\n      <th></th>\n      <th></th>\n      <th></th>\n      <th></th>\n      <th></th>\n      <th></th>\n      <th></th>\n      <th></th>\n      <th></th>\n    </tr>\n  </thead>\n  <tbody>\n    <tr>\n      <th>2023-01-03</th>\n      <td>12.099861</td>\n      <td>29.105591</td>\n      <td>51.00</td>\n      <td>68.074379</td>\n      <td>91.994225</td>\n      <td>2.886981</td>\n      <td>31.997322</td>\n      <td>30.188902</td>\n      <td>45.603874</td>\n      <td>337.165314</td>\n      <td>50.821960</td>\n      <td>4.052257</td>\n    </tr>\n    <tr>\n      <th>2023-01-04</th>\n      <td>11.558077</td>\n      <td>28.412600</td>\n      <td>52.00</td>\n      <td>68.313232</td>\n      <td>90.213692</td>\n      <td>2.847967</td>\n      <td>32.243454</td>\n      <td>29.497553</td>\n      <td>45.847744</td>\n      <td>340.122925</td>\n      <td>49.226654</td>\n      <td>3.955774</td>\n    </tr>\n    <tr>\n      <th>2023-01-05</th>\n      <td>11.558077</td>\n      <td>28.181604</td>\n      <td>51.25</td>\n      <td>67.357811</td>\n      <td>79.728325</td>\n      <td>2.867474</td>\n      <td>32.735722</td>\n      <td>29.728003</td>\n      <td>45.360001</td>\n      <td>344.066376</td>\n      <td>49.226654</td>\n      <td>3.878589</td>\n    </tr>\n    <tr>\n      <th>2023-01-06</th>\n      <td>11.106588</td>\n      <td>28.181604</td>\n      <td>51.50</td>\n      <td>68.074379</td>\n      <td>79.926170</td>\n      <td>2.867474</td>\n      <td>32.981857</td>\n      <td>29.958452</td>\n      <td>45.116131</td>\n      <td>345.052246</td>\n      <td>49.226654</td>\n      <td>3.917182</td>\n    </tr>\n    <tr>\n      <th>2023-01-09</th>\n      <td>11.287184</td>\n      <td>28.874594</td>\n      <td>51.50</td>\n      <td>67.835526</td>\n      <td>83.289391</td>\n      <td>2.906487</td>\n      <td>32.981857</td>\n      <td>30.419350</td>\n      <td>46.335484</td>\n      <td>347.023956</td>\n      <td>49.682453</td>\n      <td>3.897885</td>\n    </tr>\n    <tr>\n      <th>2023-01-10</th>\n      <td>11.287184</td>\n      <td>29.567585</td>\n      <td>50.50</td>\n      <td>66.880089</td>\n      <td>82.300201</td>\n      <td>3.023527</td>\n      <td>33.227985</td>\n      <td>30.649801</td>\n      <td>49.018066</td>\n      <td>352.939178</td>\n      <td>50.594063</td>\n      <td>3.820699</td>\n    </tr>\n    <tr>\n      <th>2023-01-11</th>\n      <td>11.196886</td>\n      <td>29.336588</td>\n      <td>50.00</td>\n      <td>66.641235</td>\n      <td>84.080742</td>\n      <td>2.984514</td>\n      <td>33.227985</td>\n      <td>30.880251</td>\n      <td>49.261936</td>\n      <td>353.925018</td>\n      <td>50.594063</td>\n      <td>3.897885</td>\n    </tr>\n    <tr>\n      <th>2023-01-12</th>\n      <td>11.106588</td>\n      <td>31.877550</td>\n      <td>50.00</td>\n      <td>66.880089</td>\n      <td>86.256950</td>\n      <td>3.043033</td>\n      <td>33.474121</td>\n      <td>31.110703</td>\n      <td>49.018066</td>\n      <td>350.967407</td>\n      <td>50.138260</td>\n      <td>3.859292</td>\n    </tr>\n    <tr>\n      <th>2023-01-13</th>\n      <td>11.287184</td>\n      <td>34.880508</td>\n      <td>51.00</td>\n      <td>66.402382</td>\n      <td>82.102371</td>\n      <td>3.062540</td>\n      <td>33.474121</td>\n      <td>31.110703</td>\n      <td>48.774197</td>\n      <td>349.981567</td>\n      <td>50.138260</td>\n      <td>3.782107</td>\n    </tr>\n    <tr>\n      <th>2023-01-16</th>\n      <td>11.196886</td>\n      <td>34.880508</td>\n      <td>50.75</td>\n      <td>65.924660</td>\n      <td>83.487236</td>\n      <td>3.062540</td>\n      <td>33.227985</td>\n      <td>31.110703</td>\n      <td>49.018066</td>\n      <td>348.995697</td>\n      <td>51.277767</td>\n      <td>3.801403</td>\n    </tr>\n    <tr>\n      <th>2023-01-17</th>\n      <td>11.196886</td>\n      <td>34.649517</td>\n      <td>51.50</td>\n      <td>65.924660</td>\n      <td>83.289391</td>\n      <td>3.043033</td>\n      <td>32.243454</td>\n      <td>30.880251</td>\n      <td>50.237419</td>\n      <td>353.925018</td>\n      <td>51.733566</td>\n      <td>3.782107</td>\n    </tr>\n    <tr>\n      <th>2023-01-18</th>\n      <td>11.196886</td>\n      <td>33.725529</td>\n      <td>51.50</td>\n      <td>65.685806</td>\n      <td>85.069923</td>\n      <td>3.082047</td>\n      <td>32.243454</td>\n      <td>30.880251</td>\n      <td>50.237419</td>\n      <td>350.967407</td>\n      <td>52.417274</td>\n      <td>3.704921</td>\n    </tr>\n    <tr>\n      <th>2023-01-19</th>\n      <td>11.106588</td>\n      <td>33.956520</td>\n      <td>51.25</td>\n      <td>66.402382</td>\n      <td>85.267761</td>\n      <td>3.062540</td>\n      <td>32.489590</td>\n      <td>30.880251</td>\n      <td>49.993549</td>\n      <td>350.967407</td>\n      <td>52.873070</td>\n      <td>3.762810</td>\n    </tr>\n    <tr>\n      <th>2023-01-20</th>\n      <td>11.467779</td>\n      <td>33.956520</td>\n      <td>50.00</td>\n      <td>65.685806</td>\n      <td>85.069923</td>\n      <td>3.004020</td>\n      <td>31.997322</td>\n      <td>30.649801</td>\n      <td>48.774197</td>\n      <td>349.981567</td>\n      <td>53.100975</td>\n      <td>3.704921</td>\n    </tr>\n    <tr>\n      <th>2023-01-23</th>\n      <td>11.287184</td>\n      <td>34.418514</td>\n      <td>50.75</td>\n      <td>65.685806</td>\n      <td>88.037483</td>\n      <td>3.062540</td>\n      <td>31.997322</td>\n      <td>31.110703</td>\n      <td>49.505806</td>\n      <td>348.009857</td>\n      <td>53.328876</td>\n      <td>3.704921</td>\n    </tr>\n    <tr>\n      <th>2023-01-24</th>\n      <td>11.287184</td>\n      <td>33.956520</td>\n      <td>51.75</td>\n      <td>66.641235</td>\n      <td>87.443977</td>\n      <td>3.043033</td>\n      <td>32.735722</td>\n      <td>30.880251</td>\n      <td>49.749680</td>\n      <td>343.080536</td>\n      <td>53.556778</td>\n      <td>3.685624</td>\n    </tr>\n    <tr>\n      <th>2023-01-25</th>\n      <td>11.287184</td>\n      <td>33.956520</td>\n      <td>52.25</td>\n      <td>66.880089</td>\n      <td>88.433159</td>\n      <td>3.023527</td>\n      <td>33.227985</td>\n      <td>30.880251</td>\n      <td>49.993549</td>\n      <td>340.122925</td>\n      <td>53.556778</td>\n      <td>3.627735</td>\n    </tr>\n    <tr>\n      <th>2023-01-26</th>\n      <td>11.106588</td>\n      <td>33.725529</td>\n      <td>52.00</td>\n      <td>66.641235</td>\n      <td>86.850464</td>\n      <td>2.984514</td>\n      <td>33.474121</td>\n      <td>30.649801</td>\n      <td>48.530323</td>\n      <td>329.278442</td>\n      <td>52.873070</td>\n      <td>3.589142</td>\n    </tr>\n    <tr>\n      <th>2023-01-27</th>\n      <td>11.106588</td>\n      <td>34.418514</td>\n      <td>52.00</td>\n      <td>67.357811</td>\n      <td>86.256950</td>\n      <td>3.023527</td>\n      <td>33.474121</td>\n      <td>30.649801</td>\n      <td>49.261936</td>\n      <td>335.193604</td>\n      <td>54.924187</td>\n      <td>3.608438</td>\n    </tr>\n    <tr>\n      <th>2023-01-30</th>\n      <td>10.835696</td>\n      <td>33.956520</td>\n      <td>52.00</td>\n      <td>68.790955</td>\n      <td>88.828835</td>\n      <td>3.023527</td>\n      <td>33.227985</td>\n      <td>30.649801</td>\n      <td>48.774197</td>\n      <td>339.137054</td>\n      <td>54.468384</td>\n      <td>3.685624</td>\n    </tr>\n  </tbody>\n</table>\n</div>"
     },
     "execution_count": 11,
     "metadata": {},
     "output_type": "execute_result"
    }
   ],
   "source": [
    "portfolio"
   ],
   "metadata": {
    "collapsed": false,
    "ExecuteTime": {
     "end_time": "2024-03-24T17:18:46.709977Z",
     "start_time": "2024-03-24T17:18:46.694982Z"
    }
   },
   "id": "f11068c2ad67b7f5",
   "execution_count": 11
  },
  {
   "cell_type": "code",
   "outputs": [],
   "source": [
    "views = {}\n",
    "view_uncertainty = {}\n",
    "for symbol in symbols:\n",
    "    X = pd.concat([ext_factors.filter(like='lag'),stock_rets[f'{symbol}_lag']], axis=1)\n",
    "    pred = predict(X, model_dict[symbol])\n",
    "    views[symbol] = pred.mean()\n",
    "    view_uncertainty[symbol] = pred.var()"
   ],
   "metadata": {
    "collapsed": false,
    "ExecuteTime": {
     "end_time": "2024-03-24T17:18:54.234523Z",
     "start_time": "2024-03-24T17:18:54.183900Z"
    }
   },
   "id": "b76245aa13be46e9",
   "execution_count": 12
  },
  {
   "cell_type": "code",
   "outputs": [
    {
     "data": {
      "text/plain": "{'MINT.BK': -0.020181252194702286,\n 'BANPU.BK': 0.010052435403267591,\n 'TOP.BK': -0.0008969691395075966,\n 'DELTA.BK': 0.026235090034723338,\n 'IRPC.BK': -0.004986589631905548,\n 'PTTGC.BK': 0.010907156297797434,\n 'WHA.BK': 0.008349102333321997,\n 'SCC.BK': 0.003661101830593816,\n 'CPN.BK': -0.009342251042961863,\n 'CENTEL.BK': -0.000431171697428095,\n 'PTT.BK': 0.004525782389259246,\n 'BCP.BK': -0.004656466730269359}"
     },
     "execution_count": 13,
     "metadata": {},
     "output_type": "execute_result"
    }
   ],
   "source": [
    "views"
   ],
   "metadata": {
    "collapsed": false,
    "ExecuteTime": {
     "end_time": "2024-03-24T17:18:54.930153Z",
     "start_time": "2024-03-24T17:18:54.925448Z"
    }
   },
   "id": "7dc53600a41ea5c3",
   "execution_count": 13
  },
  {
   "cell_type": "code",
   "outputs": [
    {
     "data": {
      "text/plain": "{'MINT.BK': 9.375063397199297e-05,\n 'BANPU.BK': 2.480115536330192e-05,\n 'TOP.BK': 3.463115111410517e-05,\n 'DELTA.BK': 0.00028559274768358154,\n 'IRPC.BK': 4.376182678299651e-05,\n 'PTTGC.BK': 0.00021325550095586566,\n 'WHA.BK': 3.138414408162785e-05,\n 'SCC.BK': 1.4205483997382495e-05,\n 'CPN.BK': 4.305222918748461e-05,\n 'CENTEL.BK': 4.542016119658813e-05,\n 'PTT.BK': 0.00028876537518655903,\n 'BCP.BK': 2.5710884537990365e-05}"
     },
     "execution_count": 14,
     "metadata": {},
     "output_type": "execute_result"
    }
   ],
   "source": [
    "view_uncertainty"
   ],
   "metadata": {
    "collapsed": false,
    "ExecuteTime": {
     "end_time": "2024-03-24T17:18:56.002947Z",
     "start_time": "2024-03-24T17:18:55.997753Z"
    }
   },
   "id": "54e919714b8b5ab3",
   "execution_count": 14
  },
  {
   "cell_type": "code",
   "outputs": [
    {
     "data": {
      "text/plain": "array([[9.37506340e-05, 0.00000000e+00, 0.00000000e+00, 0.00000000e+00,\n        0.00000000e+00, 0.00000000e+00, 0.00000000e+00, 0.00000000e+00,\n        0.00000000e+00, 0.00000000e+00, 0.00000000e+00, 0.00000000e+00],\n       [0.00000000e+00, 2.48011554e-05, 0.00000000e+00, 0.00000000e+00,\n        0.00000000e+00, 0.00000000e+00, 0.00000000e+00, 0.00000000e+00,\n        0.00000000e+00, 0.00000000e+00, 0.00000000e+00, 0.00000000e+00],\n       [0.00000000e+00, 0.00000000e+00, 3.46311511e-05, 0.00000000e+00,\n        0.00000000e+00, 0.00000000e+00, 0.00000000e+00, 0.00000000e+00,\n        0.00000000e+00, 0.00000000e+00, 0.00000000e+00, 0.00000000e+00],\n       [0.00000000e+00, 0.00000000e+00, 0.00000000e+00, 2.85592748e-04,\n        0.00000000e+00, 0.00000000e+00, 0.00000000e+00, 0.00000000e+00,\n        0.00000000e+00, 0.00000000e+00, 0.00000000e+00, 0.00000000e+00],\n       [0.00000000e+00, 0.00000000e+00, 0.00000000e+00, 0.00000000e+00,\n        4.37618268e-05, 0.00000000e+00, 0.00000000e+00, 0.00000000e+00,\n        0.00000000e+00, 0.00000000e+00, 0.00000000e+00, 0.00000000e+00],\n       [0.00000000e+00, 0.00000000e+00, 0.00000000e+00, 0.00000000e+00,\n        0.00000000e+00, 2.13255501e-04, 0.00000000e+00, 0.00000000e+00,\n        0.00000000e+00, 0.00000000e+00, 0.00000000e+00, 0.00000000e+00],\n       [0.00000000e+00, 0.00000000e+00, 0.00000000e+00, 0.00000000e+00,\n        0.00000000e+00, 0.00000000e+00, 3.13841441e-05, 0.00000000e+00,\n        0.00000000e+00, 0.00000000e+00, 0.00000000e+00, 0.00000000e+00],\n       [0.00000000e+00, 0.00000000e+00, 0.00000000e+00, 0.00000000e+00,\n        0.00000000e+00, 0.00000000e+00, 0.00000000e+00, 1.42054840e-05,\n        0.00000000e+00, 0.00000000e+00, 0.00000000e+00, 0.00000000e+00],\n       [0.00000000e+00, 0.00000000e+00, 0.00000000e+00, 0.00000000e+00,\n        0.00000000e+00, 0.00000000e+00, 0.00000000e+00, 0.00000000e+00,\n        4.30522292e-05, 0.00000000e+00, 0.00000000e+00, 0.00000000e+00],\n       [0.00000000e+00, 0.00000000e+00, 0.00000000e+00, 0.00000000e+00,\n        0.00000000e+00, 0.00000000e+00, 0.00000000e+00, 0.00000000e+00,\n        0.00000000e+00, 4.54201612e-05, 0.00000000e+00, 0.00000000e+00],\n       [0.00000000e+00, 0.00000000e+00, 0.00000000e+00, 0.00000000e+00,\n        0.00000000e+00, 0.00000000e+00, 0.00000000e+00, 0.00000000e+00,\n        0.00000000e+00, 0.00000000e+00, 2.88765375e-04, 0.00000000e+00],\n       [0.00000000e+00, 0.00000000e+00, 0.00000000e+00, 0.00000000e+00,\n        0.00000000e+00, 0.00000000e+00, 0.00000000e+00, 0.00000000e+00,\n        0.00000000e+00, 0.00000000e+00, 0.00000000e+00, 2.57108845e-05]])"
     },
     "execution_count": 15,
     "metadata": {},
     "output_type": "execute_result"
    }
   ],
   "source": [
    "omega = np.diag(list(view_uncertainty.values()))\n",
    "omega"
   ],
   "metadata": {
    "collapsed": false,
    "ExecuteTime": {
     "end_time": "2024-03-24T17:19:07.148188Z",
     "start_time": "2024-03-24T17:19:07.142002Z"
    }
   },
   "id": "46bfa16fea8ed17e",
   "execution_count": 15
  },
  {
   "cell_type": "code",
   "outputs": [],
   "source": [
    "bl = BlackLittermanModel(S, pi=\"equal\", risk_aversion=delta,\n",
    "                         absolute_views=views, omega=omega)"
   ],
   "metadata": {
    "collapsed": false,
    "ExecuteTime": {
     "end_time": "2024-03-24T18:10:35.844238Z",
     "start_time": "2024-03-24T18:10:35.836047Z"
    }
   },
   "id": "d3646cac68fd69b0",
   "execution_count": 24
  },
  {
   "cell_type": "code",
   "outputs": [
    {
     "data": {
      "text/plain": "Ticker\nBANPU.BK     0.010590\nBCP.BK      -0.004492\nCENTEL.BK    0.000764\nCPN.BK      -0.008104\nDELTA.BK     0.027101\nIRPC.BK     -0.004272\nMINT.BK     -0.016983\nPTT.BK       0.009729\nPTTGC.BK     0.012381\nSCC.BK       0.003982\nTOP.BK      -0.000327\nWHA.BK       0.008973\ndtype: float64"
     },
     "execution_count": 25,
     "metadata": {},
     "output_type": "execute_result"
    }
   ],
   "source": [
    "ret_bl = bl.bl_returns()\n",
    "ret_bl"
   ],
   "metadata": {
    "collapsed": false,
    "ExecuteTime": {
     "end_time": "2024-03-24T18:10:36.301003Z",
     "start_time": "2024-03-24T18:10:36.292322Z"
    }
   },
   "id": "8b91eea07b6bc49",
   "execution_count": 25
  },
  {
   "cell_type": "code",
   "outputs": [
    {
     "data": {
      "text/plain": "              Prior  Posterior     Views\nBANPU.BK   0.020129   0.010590  0.010052\nBCP.BK     0.021619  -0.004492 -0.004656\nCENTEL.BK  0.020546   0.000764 -0.000431\nCPN.BK     0.022463  -0.008104 -0.009342\nDELTA.BK   0.034864   0.027101  0.026235\nIRPC.BK    0.021786  -0.004272 -0.004987\nMINT.BK    0.020171  -0.016983 -0.020181\nPTT.BK     0.026123   0.009729  0.004526\nPTTGC.BK   0.023409   0.012381  0.010907\nSCC.BK     0.021675   0.003982  0.003661\nTOP.BK     0.022088  -0.000327 -0.000897\nWHA.BK     0.022681   0.008973  0.008349",
      "text/html": "<div>\n<style scoped>\n    .dataframe tbody tr th:only-of-type {\n        vertical-align: middle;\n    }\n\n    .dataframe tbody tr th {\n        vertical-align: top;\n    }\n\n    .dataframe thead th {\n        text-align: right;\n    }\n</style>\n<table border=\"1\" class=\"dataframe\">\n  <thead>\n    <tr style=\"text-align: right;\">\n      <th></th>\n      <th>Prior</th>\n      <th>Posterior</th>\n      <th>Views</th>\n    </tr>\n  </thead>\n  <tbody>\n    <tr>\n      <th>BANPU.BK</th>\n      <td>0.020129</td>\n      <td>0.010590</td>\n      <td>0.010052</td>\n    </tr>\n    <tr>\n      <th>BCP.BK</th>\n      <td>0.021619</td>\n      <td>-0.004492</td>\n      <td>-0.004656</td>\n    </tr>\n    <tr>\n      <th>CENTEL.BK</th>\n      <td>0.020546</td>\n      <td>0.000764</td>\n      <td>-0.000431</td>\n    </tr>\n    <tr>\n      <th>CPN.BK</th>\n      <td>0.022463</td>\n      <td>-0.008104</td>\n      <td>-0.009342</td>\n    </tr>\n    <tr>\n      <th>DELTA.BK</th>\n      <td>0.034864</td>\n      <td>0.027101</td>\n      <td>0.026235</td>\n    </tr>\n    <tr>\n      <th>IRPC.BK</th>\n      <td>0.021786</td>\n      <td>-0.004272</td>\n      <td>-0.004987</td>\n    </tr>\n    <tr>\n      <th>MINT.BK</th>\n      <td>0.020171</td>\n      <td>-0.016983</td>\n      <td>-0.020181</td>\n    </tr>\n    <tr>\n      <th>PTT.BK</th>\n      <td>0.026123</td>\n      <td>0.009729</td>\n      <td>0.004526</td>\n    </tr>\n    <tr>\n      <th>PTTGC.BK</th>\n      <td>0.023409</td>\n      <td>0.012381</td>\n      <td>0.010907</td>\n    </tr>\n    <tr>\n      <th>SCC.BK</th>\n      <td>0.021675</td>\n      <td>0.003982</td>\n      <td>0.003661</td>\n    </tr>\n    <tr>\n      <th>TOP.BK</th>\n      <td>0.022088</td>\n      <td>-0.000327</td>\n      <td>-0.000897</td>\n    </tr>\n    <tr>\n      <th>WHA.BK</th>\n      <td>0.022681</td>\n      <td>0.008973</td>\n      <td>0.008349</td>\n    </tr>\n  </tbody>\n</table>\n</div>"
     },
     "execution_count": 26,
     "metadata": {},
     "output_type": "execute_result"
    }
   ],
   "source": [
    "rets_df = pd.DataFrame([market_prior, ret_bl, pd.Series(views)],\n",
    "                       index=[\"Prior\", \"Posterior\", \"Views\"]).T\n",
    "rets_df"
   ],
   "metadata": {
    "collapsed": false,
    "ExecuteTime": {
     "end_time": "2024-03-24T18:10:37.052046Z",
     "start_time": "2024-03-24T18:10:37.039436Z"
    }
   },
   "id": "bef59e447e190d52",
   "execution_count": 26
  },
  {
   "cell_type": "code",
   "outputs": [
    {
     "data": {
      "text/plain": "<Figure size 640x480 with 2 Axes>",
      "image/png": "[encoded data removed]"
     },
     "metadata": {},
     "output_type": "display_data"
    }
   ],
   "source": [
    "S_bl = bl.bl_cov()\n",
    "plotting.plot_covariance(S_bl);"
   ],
   "metadata": {
    "collapsed": false,
    "ExecuteTime": {
     "end_time": "2024-03-24T18:10:38.717224Z",
     "start_time": "2024-03-24T18:10:38.483742Z"
    }
   },
   "id": "13311185025d0d1b",
   "execution_count": 27
  },
  {
   "cell_type": "code",
   "outputs": [
    {
     "name": "stderr",
     "output_type": "stream",
     "text": [
      "C:\\Users\\Eakka\\anaconda3\\envs\\pymc_env\\Lib\\site-packages\\pypfopt\\efficient_frontier\\efficient_frontier.py:259: UserWarning: max_sharpe transforms the optimization problem so additional objectives may not work as expected.\n",
      "  warnings.warn(\n"
     ]
    },
    {
     "data": {
      "text/plain": "OrderedDict([('BANPU.BK', 0.15026),\n             ('BCP.BK', 0.0),\n             ('CENTEL.BK', 0.0),\n             ('CPN.BK', 0.0),\n             ('DELTA.BK', 0.3944),\n             ('IRPC.BK', 0.0),\n             ('MINT.BK', 0.0),\n             ('PTT.BK', 0.13241),\n             ('PTTGC.BK', 0.17209),\n             ('SCC.BK', 0.036),\n             ('TOP.BK', 0.0),\n             ('WHA.BK', 0.11485)])"
     },
     "execution_count": 28,
     "metadata": {},
     "output_type": "execute_result"
    }
   ],
   "source": [
    "ef = EfficientFrontier(ret_bl, S_bl)\n",
    "ef.add_objective(objective_functions.L2_reg)\n",
    "ef.max_sharpe(risk_free_rate=0.0227/12)\n",
    "weights = ef.clean_weights()\n",
    "weights"
   ],
   "metadata": {
    "collapsed": false,
    "ExecuteTime": {
     "end_time": "2024-03-24T18:10:39.917788Z",
     "start_time": "2024-03-24T18:10:39.884123Z"
    }
   },
   "id": "ab9039507ee7a80e",
   "execution_count": 28
  },
  {
   "cell_type": "code",
   "outputs": [
    {
     "data": {
      "text/plain": "<Figure size 900x900 with 1 Axes>",
      "image/png": "[encoded data removed]"
     },
     "metadata": {},
     "output_type": "display_data"
    }
   ],
   "source": [
    "pd.Series(weights).plot.pie(figsize=(9,9));"
   ],
   "metadata": {
    "collapsed": false,
    "ExecuteTime": {
     "end_time": "2024-03-24T18:10:40.831081Z",
     "start_time": "2024-03-24T18:10:40.734104Z"
    }
   },
   "id": "4f34551547087773",
   "execution_count": 29
  },
  {
   "cell_type": "code",
   "outputs": [
    {
     "name": "stdout",
     "output_type": "stream",
     "text": [
      "Expected annual return: 1.7%\n",
      "Annual volatility: 19.1%\n",
      "Sharpe Ratio: 0.08\n"
     ]
    },
    {
     "data": {
      "text/plain": "(0.016872625000409164, 0.1911588057133619, 0.07836917728083156)"
     },
     "execution_count": 30,
     "metadata": {},
     "output_type": "execute_result"
    }
   ],
   "source": [
    "ef.portfolio_performance(risk_free_rate=0.0227/12, verbose=True)"
   ],
   "metadata": {
    "collapsed": false,
    "ExecuteTime": {
     "end_time": "2024-03-24T18:10:41.897549Z",
     "start_time": "2024-03-24T18:10:41.891837Z"
    }
   },
   "id": "2fe6e3bf82cfb4d3",
   "execution_count": 30
  },
  {
   "cell_type": "markdown",
   "source": [
    "# Black-Litterman model with monthly rebalancing"
   ],
   "metadata": {
    "collapsed": false
   },
   "id": "a47bc9277b705d4b"
  },
  {
   "cell_type": "code",
   "outputs": [
    {
     "data": {
      "text/plain": "(95,)"
     },
     "execution_count": 27,
     "metadata": {},
     "output_type": "execute_result"
    }
   ],
   "source": [
    "stock_rets.index.shape"
   ],
   "metadata": {
    "collapsed": false,
    "ExecuteTime": {
     "end_time": "2024-03-24T15:44:32.320394Z",
     "start_time": "2024-03-24T15:44:32.316625Z"
    }
   },
   "id": "af5c832d2e93d44e",
   "execution_count": 27
  },
  {
   "cell_type": "code",
   "outputs": [],
   "source": [],
   "metadata": {
    "collapsed": false
   },
   "id": "4a41da273313d0ab"
  }
 ],
 "metadata": {
  "kernelspec": {
   "display_name": "Python 3",
   "language": "python",
   "name": "python3"
  },
  "language_info": {
   "codemirror_mode": {
    "name": "ipython",
    "version": 2
   },
   "file_extension": ".py",
   "mimetype": "text/x-python",
   "name": "python",
   "nbconvert_exporter": "python",
   "pygments_lexer": "ipython2",
   "version": "2.7.6"
  }
 },
 "nbformat": 4,
 "nbformat_minor": 5
}
