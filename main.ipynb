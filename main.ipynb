{
 "cells": [
  {
   "cell_type": "code",
   "execution_count": 1,
   "id": "initial_id",
   "metadata": {
    "collapsed": true,
    "ExecuteTime": {
     "end_time": "2024-03-25T11:32:04.782261Z",
     "start_time": "2024-03-25T11:32:02.009614Z"
    }
   },
   "outputs": [],
   "source": [
    "import pymc as pm\n",
    "import numpy as np\n",
    "import matplotlib.pyplot as plt\n",
    "import pandas as pd\n",
    "from pymc import Model, Normal, sample, HalfNormal\n",
    "import arviz as az\n",
    "\n",
    "import yfinance as yf\n",
    "from pypfopt import EfficientFrontier, objective_functions\n",
    "from pypfopt import black_litterman, risk_models\n",
    "from pypfopt import BlackLittermanModel, plotting\n",
    "from pypfopt import DiscreteAllocation\n",
    "import warnings\n",
    "warnings.simplefilter(action='ignore', category=pd.errors.PerformanceWarning)"
   ]
  },
  {
   "cell_type": "code",
   "outputs": [
    {
     "name": "stderr",
     "output_type": "stream",
     "text": [
      "C:\\Users\\TGAdmin\\anaconda3\\envs\\pymc_env\\Lib\\site-packages\\yfinance\\utils.py:775: FutureWarning: The 'unit' keyword in TimedeltaIndex construction is deprecated and will be removed in a future version. Use pd.to_timedelta instead.\n",
      "  df.index += _pd.TimedeltaIndex(dst_error_hours, 'h')\n",
      "[*********************100%%**********************]  1 of 1 completed\n",
      "C:\\Users\\TGAdmin\\AppData\\Local\\Temp\\ipykernel_3716\\2134569041.py:7: FutureWarning: The default fill_method='pad' in DataFrame.pct_change is deprecated and will be removed in a future version. Either fill in any non-leading NA values prior to calling pct_change or specify 'fill_method=None' to not fill NA values.\n",
      "  stock_rets = stock_prices.pct_change()\n",
      "C:\\Users\\TGAdmin\\AppData\\Local\\Temp\\ipykernel_3716\\2134569041.py:8: FutureWarning: 'M' is deprecated and will be removed in a future version, please use 'ME' instead.\n",
      "  ext_factors = ext_factors.resample('M').agg(lambda x: (x + 1).prod() - 1)\n",
      "C:\\Users\\TGAdmin\\AppData\\Local\\Temp\\ipykernel_3716\\2134569041.py:9: FutureWarning: 'M' is deprecated and will be removed in a future version, please use 'ME' instead.\n",
      "  stock_rets = stock_rets.resample('M').agg(lambda x: (x + 1).prod() - 1)\n"
     ]
    }
   ],
   "source": [
    "start = '2014-12-31'\n",
    "end = '2022-12-31'\n",
    "ext_factors = pd.read_parquet('factors.parquet')\n",
    "stock_prices = pd.read_parquet('stock_prices.parquet')\n",
    "stock_prices = stock_prices.loc[start:end, :]\n",
    "market_prices = yf.download(\"^SET.BK\", start=start, end=end)['Adj Close']\n",
    "stock_rets = stock_prices.pct_change()\n",
    "ext_factors = ext_factors.resample('M').agg(lambda x: (x + 1).prod() - 1)\n",
    "stock_rets = stock_rets.resample('M').agg(lambda x: (x + 1).prod() - 1)\n",
    "\n",
    "ext_factors[[f'{factor}_lag' for factor in ext_factors.columns]] = ext_factors.shift(1)\n",
    "stock_rets[[f'{symbol}_lag' for symbol in stock_rets.columns]] = stock_rets.shift(1)\n",
    "\n",
    "ext_factors = ext_factors.dropna()\n",
    "stock_rets = stock_rets.dropna()\n"
   ],
   "metadata": {
    "collapsed": false,
    "ExecuteTime": {
     "end_time": "2024-03-25T11:32:06.689140Z",
     "start_time": "2024-03-25T11:32:04.783265Z"
    }
   },
   "id": "e7bf4f7ba8b02ee6",
   "execution_count": 2
  },
  {
   "cell_type": "code",
   "outputs": [],
   "source": [
    "# train/test split\n",
    "start_train_at = '2014-12-31'\n",
    "end_train_at = '2021-12-31'\n",
    "start_test_at = '2022-01-31'\n",
    "X_train = pd.concat([stock_rets.loc[start_train_at:end_train_at, :], ext_factors.loc[start_train_at:end_train_at, :]], axis=1)\n",
    "X_test = pd.concat([stock_rets.loc[start_test_at:, :], ext_factors.loc[start_test_at:, :]], axis=1)"
   ],
   "metadata": {
    "collapsed": false,
    "ExecuteTime": {
     "end_time": "2024-03-25T11:32:06.705499Z",
     "start_time": "2024-03-25T11:32:06.690180Z"
    }
   },
   "id": "8577120faf265344",
   "execution_count": 3
  },
  {
   "cell_type": "code",
   "outputs": [],
   "source": [
    "model_dict = {}\n",
    "universe = ['MINT.BK', 'BANPU.BK', 'TOP.BK', \n",
    "           'DELTA.BK', 'IRPC.BK', 'PTTGC.BK', \n",
    "           'WHA.BK', 'SCC.BK','CPN.BK', \n",
    "           'CENTEL.BK', 'PTT.BK', 'BCP.BK']\n",
    "# symbols = ['SET_index']\n",
    "def train(universe, with_esg=True):\n",
    "    for symbol in universe:\n",
    "        with Model() as model:\n",
    "            if with_esg:\n",
    "                beta0 = Normal('beta0', 0, 10)\n",
    "                beta1 = Normal('beta1', 0, 10)\n",
    "                beta2 = Normal('beta2', 0, 10)\n",
    "                beta3 = Normal('beta3', 0, 10)\n",
    "                beta4 = Normal('beta4', 0, 10)\n",
    "                stdev = HalfNormal('stdev', 10)\n",
    "                X_l1 = pm.MutableData( 'lagged_X', X_train.loc[:, f'{symbol}_lag'].values)\n",
    "                R_l1 = pm.MutableData('lagged_R_l1', X_train.loc[:, 'mkt_lag'].values)\n",
    "                R_l2 = pm.MutableData('lagged_R_l2',X_train.loc[:, 'E_lag'].values)\n",
    "                R_l3 = pm.MutableData('lagged_R_l3',X_train.loc[:, 'S_lag'].values)\n",
    "                R_l4 = pm.MutableData('lagged_R_l4',X_train.loc[:, 'G_lag'].values)\n",
    "                X = X_train.loc[:, symbol].values\n",
    "                mu = X_l1 * beta0 + R_l1 * beta1 + R_l2 * beta2 + R_l3 * beta3 + R_l4 * beta4\n",
    "                obs = Normal('obs', mu=mu, sigma=stdev, observed=X)\n",
    "                ar_trace = sample(20000, chains=1)\n",
    "                model_dict[symbol] = ar_trace\n",
    "            else:\n",
    "                beta0 = Normal('beta0', 0, 10)\n",
    "                beta1 = Normal('beta1', 0, 10)\n",
    "                stdev = HalfNormal('stdev', 10)\n",
    "                X_l1 = pm.MutableData( 'lagged_X', X_train.loc[:, f'{symbol}_lag'].values)\n",
    "                R_l1 = pm.MutableData('lagged_R_l1', X_train.loc[:, 'mkt_lag'].values)\n",
    "                X = X_train.loc[:, symbol].values\n",
    "                mu = X_l1 * beta0 + R_l1 * beta1\n",
    "                obs = Normal('obs', mu=mu, sigma=stdev, observed=X)\n",
    "                ar_trace = sample(20000, chains=1)\n",
    "                model_dict[symbol] = ar_trace\n",
    "    return model_dict\n"
   ],
   "metadata": {
    "collapsed": false,
    "ExecuteTime": {
     "end_time": "2024-03-25T11:32:06.716327Z",
     "start_time": "2024-03-25T11:32:06.707504Z"
    }
   },
   "id": "f1b8c1b117cd840e",
   "execution_count": 4
  },
  {
   "cell_type": "code",
   "outputs": [],
   "source": [
    "import numpy as np\n",
    "def predict(X, symbol, model, with_esg=True):\n",
    "    draw = model.posterior['draw'].shape[0]\n",
    "    \n",
    "    beta0_sample = model.posterior['beta0']\n",
    "    beta1_sample = model.posterior['beta1']\n",
    "    if with_esg:\n",
    "        beta2_sample = model.posterior['beta2']\n",
    "        beta3_sample = model.posterior['beta3']\n",
    "        beta4_sample = model.posterior['beta4']\n",
    "        next_period_return = (X[f'{symbol}_lag'] * beta0_sample +\n",
    "                              X['mkt_lag'] * beta1_sample + \n",
    "                              X['E_lag'] * beta2_sample + \n",
    "                              X['S_lag'] * beta3_sample + \n",
    "                              X['G_lag'] * beta4_sample)\n",
    "    else:\n",
    "        next_period_return = (X[f'{symbol}_lag'] * beta0_sample +\n",
    "                              X['mkt_lag'] * beta1_sample)\n",
    "\n",
    "    next_period_return = np.array(next_period_return).reshape(draw, )\n",
    "    return next_period_return "
   ],
   "metadata": {
    "collapsed": false,
    "ExecuteTime": {
     "end_time": "2024-03-25T11:32:06.725732Z",
     "start_time": "2024-03-25T11:32:06.719332Z"
    }
   },
   "id": "d59967eebf9348e",
   "execution_count": 5
  },
  {
   "cell_type": "code",
   "outputs": [
    {
     "name": "stderr",
     "output_type": "stream",
     "text": [
      "Auto-assigning NUTS sampler...\n",
      "Initializing NUTS using jitter+adapt_diag...\n",
      "Sequential sampling (1 chains in 1 job)\n",
      "NUTS: [beta0, beta1, stdev]\n"
     ]
    },
    {
     "data": {
      "text/plain": "<IPython.core.display.HTML object>",
      "text/html": "\n<style>\n    /* Turns off some styling */\n    progress {\n        /* gets rid of default border in Firefox and Opera. */\n        border: none;\n        /* Needs to be in here for Safari polyfill so background images work as expected. */\n        background-size: auto;\n    }\n    progress:not([value]), progress:not([value])::-webkit-progress-bar {\n        background: repeating-linear-gradient(45deg, #7e7e7e, #7e7e7e 10px, #5c5c5c 10px, #5c5c5c 20px);\n    }\n    .progress-bar-interrupted, .progress-bar-interrupted::-webkit-progress-bar {\n        background: #F44336;\n    }\n</style>\n"
     },
     "metadata": {},
     "output_type": "display_data"
    },
    {
     "data": {
      "text/plain": "<IPython.core.display.HTML object>",
      "text/html": "\n    <div>\n      <progress value='21000' class='' max='21000' style='width:300px; height:20px; vertical-align: middle;'></progress>\n      100.00% [21000/21000 00:12&lt;00:00 Sampling chain 0, 0 divergences]\n    </div>\n    "
     },
     "metadata": {},
     "output_type": "display_data"
    },
    {
     "name": "stderr",
     "output_type": "stream",
     "text": [
      "Sampling 1 chain for 1_000 tune and 20_000 draw iterations (1_000 + 20_000 draws total) took 13 seconds.\n",
      "Only one chain was sampled, this makes it impossible to run some convergence checks\n",
      "Auto-assigning NUTS sampler...\n",
      "Initializing NUTS using jitter+adapt_diag...\n",
      "Sequential sampling (1 chains in 1 job)\n",
      "NUTS: [beta0, beta1, stdev]\n"
     ]
    },
    {
     "data": {
      "text/plain": "<IPython.core.display.HTML object>",
      "text/html": "\n<style>\n    /* Turns off some styling */\n    progress {\n        /* gets rid of default border in Firefox and Opera. */\n        border: none;\n        /* Needs to be in here for Safari polyfill so background images work as expected. */\n        background-size: auto;\n    }\n    progress:not([value]), progress:not([value])::-webkit-progress-bar {\n        background: repeating-linear-gradient(45deg, #7e7e7e, #7e7e7e 10px, #5c5c5c 10px, #5c5c5c 20px);\n    }\n    .progress-bar-interrupted, .progress-bar-interrupted::-webkit-progress-bar {\n        background: #F44336;\n    }\n</style>\n"
     },
     "metadata": {},
     "output_type": "display_data"
    },
    {
     "data": {
      "text/plain": "<IPython.core.display.HTML object>",
      "text/html": "\n    <div>\n      <progress value='21000' class='' max='21000' style='width:300px; height:20px; vertical-align: middle;'></progress>\n      100.00% [21000/21000 00:12&lt;00:00 Sampling chain 0, 0 divergences]\n    </div>\n    "
     },
     "metadata": {},
     "output_type": "display_data"
    },
    {
     "name": "stderr",
     "output_type": "stream",
     "text": [
      "Sampling 1 chain for 1_000 tune and 20_000 draw iterations (1_000 + 20_000 draws total) took 12 seconds.\n",
      "Only one chain was sampled, this makes it impossible to run some convergence checks\n",
      "Auto-assigning NUTS sampler...\n",
      "Initializing NUTS using jitter+adapt_diag...\n",
      "Sequential sampling (1 chains in 1 job)\n",
      "NUTS: [beta0, beta1, stdev]\n"
     ]
    },
    {
     "data": {
      "text/plain": "<IPython.core.display.HTML object>",
      "text/html": "\n<style>\n    /* Turns off some styling */\n    progress {\n        /* gets rid of default border in Firefox and Opera. */\n        border: none;\n        /* Needs to be in here for Safari polyfill so background images work as expected. */\n        background-size: auto;\n    }\n    progress:not([value]), progress:not([value])::-webkit-progress-bar {\n        background: repeating-linear-gradient(45deg, #7e7e7e, #7e7e7e 10px, #5c5c5c 10px, #5c5c5c 20px);\n    }\n    .progress-bar-interrupted, .progress-bar-interrupted::-webkit-progress-bar {\n        background: #F44336;\n    }\n</style>\n"
     },
     "metadata": {},
     "output_type": "display_data"
    },
    {
     "data": {
      "text/plain": "<IPython.core.display.HTML object>",
      "text/html": "\n    <div>\n      <progress value='21000' class='' max='21000' style='width:300px; height:20px; vertical-align: middle;'></progress>\n      100.00% [21000/21000 00:13&lt;00:00 Sampling chain 0, 0 divergences]\n    </div>\n    "
     },
     "metadata": {},
     "output_type": "display_data"
    },
    {
     "name": "stderr",
     "output_type": "stream",
     "text": [
      "Sampling 1 chain for 1_000 tune and 20_000 draw iterations (1_000 + 20_000 draws total) took 13 seconds.\n",
      "Only one chain was sampled, this makes it impossible to run some convergence checks\n",
      "Auto-assigning NUTS sampler...\n",
      "Initializing NUTS using jitter+adapt_diag...\n",
      "Sequential sampling (1 chains in 1 job)\n",
      "NUTS: [beta0, beta1, stdev]\n"
     ]
    },
    {
     "data": {
      "text/plain": "<IPython.core.display.HTML object>",
      "text/html": "\n<style>\n    /* Turns off some styling */\n    progress {\n        /* gets rid of default border in Firefox and Opera. */\n        border: none;\n        /* Needs to be in here for Safari polyfill so background images work as expected. */\n        background-size: auto;\n    }\n    progress:not([value]), progress:not([value])::-webkit-progress-bar {\n        background: repeating-linear-gradient(45deg, #7e7e7e, #7e7e7e 10px, #5c5c5c 10px, #5c5c5c 20px);\n    }\n    .progress-bar-interrupted, .progress-bar-interrupted::-webkit-progress-bar {\n        background: #F44336;\n    }\n</style>\n"
     },
     "metadata": {},
     "output_type": "display_data"
    },
    {
     "data": {
      "text/plain": "<IPython.core.display.HTML object>",
      "text/html": "\n    <div>\n      <progress value='21000' class='' max='21000' style='width:300px; height:20px; vertical-align: middle;'></progress>\n      100.00% [21000/21000 00:09&lt;00:00 Sampling chain 0, 0 divergences]\n    </div>\n    "
     },
     "metadata": {},
     "output_type": "display_data"
    },
    {
     "name": "stderr",
     "output_type": "stream",
     "text": [
      "Sampling 1 chain for 1_000 tune and 20_000 draw iterations (1_000 + 20_000 draws total) took 10 seconds.\n",
      "Only one chain was sampled, this makes it impossible to run some convergence checks\n",
      "Auto-assigning NUTS sampler...\n",
      "Initializing NUTS using jitter+adapt_diag...\n",
      "Sequential sampling (1 chains in 1 job)\n",
      "NUTS: [beta0, beta1, stdev]\n"
     ]
    },
    {
     "data": {
      "text/plain": "<IPython.core.display.HTML object>",
      "text/html": "\n<style>\n    /* Turns off some styling */\n    progress {\n        /* gets rid of default border in Firefox and Opera. */\n        border: none;\n        /* Needs to be in here for Safari polyfill so background images work as expected. */\n        background-size: auto;\n    }\n    progress:not([value]), progress:not([value])::-webkit-progress-bar {\n        background: repeating-linear-gradient(45deg, #7e7e7e, #7e7e7e 10px, #5c5c5c 10px, #5c5c5c 20px);\n    }\n    .progress-bar-interrupted, .progress-bar-interrupted::-webkit-progress-bar {\n        background: #F44336;\n    }\n</style>\n"
     },
     "metadata": {},
     "output_type": "display_data"
    },
    {
     "data": {
      "text/plain": "<IPython.core.display.HTML object>",
      "text/html": "\n    <div>\n      <progress value='21000' class='' max='21000' style='width:300px; height:20px; vertical-align: middle;'></progress>\n      100.00% [21000/21000 00:12&lt;00:00 Sampling chain 0, 0 divergences]\n    </div>\n    "
     },
     "metadata": {},
     "output_type": "display_data"
    },
    {
     "name": "stderr",
     "output_type": "stream",
     "text": [
      "Sampling 1 chain for 1_000 tune and 20_000 draw iterations (1_000 + 20_000 draws total) took 13 seconds.\n",
      "Only one chain was sampled, this makes it impossible to run some convergence checks\n",
      "Auto-assigning NUTS sampler...\n",
      "Initializing NUTS using jitter+adapt_diag...\n",
      "Sequential sampling (1 chains in 1 job)\n",
      "NUTS: [beta0, beta1, stdev]\n"
     ]
    },
    {
     "data": {
      "text/plain": "<IPython.core.display.HTML object>",
      "text/html": "\n<style>\n    /* Turns off some styling */\n    progress {\n        /* gets rid of default border in Firefox and Opera. */\n        border: none;\n        /* Needs to be in here for Safari polyfill so background images work as expected. */\n        background-size: auto;\n    }\n    progress:not([value]), progress:not([value])::-webkit-progress-bar {\n        background: repeating-linear-gradient(45deg, #7e7e7e, #7e7e7e 10px, #5c5c5c 10px, #5c5c5c 20px);\n    }\n    .progress-bar-interrupted, .progress-bar-interrupted::-webkit-progress-bar {\n        background: #F44336;\n    }\n</style>\n"
     },
     "metadata": {},
     "output_type": "display_data"
    },
    {
     "data": {
      "text/plain": "<IPython.core.display.HTML object>",
      "text/html": "\n    <div>\n      <progress value='21000' class='' max='21000' style='width:300px; height:20px; vertical-align: middle;'></progress>\n      100.00% [21000/21000 00:16&lt;00:00 Sampling chain 0, 0 divergences]\n    </div>\n    "
     },
     "metadata": {},
     "output_type": "display_data"
    },
    {
     "name": "stderr",
     "output_type": "stream",
     "text": [
      "Sampling 1 chain for 1_000 tune and 20_000 draw iterations (1_000 + 20_000 draws total) took 16 seconds.\n",
      "Only one chain was sampled, this makes it impossible to run some convergence checks\n",
      "Auto-assigning NUTS sampler...\n",
      "Initializing NUTS using jitter+adapt_diag...\n",
      "Sequential sampling (1 chains in 1 job)\n",
      "NUTS: [beta0, beta1, stdev]\n"
     ]
    },
    {
     "data": {
      "text/plain": "<IPython.core.display.HTML object>",
      "text/html": "\n<style>\n    /* Turns off some styling */\n    progress {\n        /* gets rid of default border in Firefox and Opera. */\n        border: none;\n        /* Needs to be in here for Safari polyfill so background images work as expected. */\n        background-size: auto;\n    }\n    progress:not([value]), progress:not([value])::-webkit-progress-bar {\n        background: repeating-linear-gradient(45deg, #7e7e7e, #7e7e7e 10px, #5c5c5c 10px, #5c5c5c 20px);\n    }\n    .progress-bar-interrupted, .progress-bar-interrupted::-webkit-progress-bar {\n        background: #F44336;\n    }\n</style>\n"
     },
     "metadata": {},
     "output_type": "display_data"
    },
    {
     "data": {
      "text/plain": "<IPython.core.display.HTML object>",
      "text/html": "\n    <div>\n      <progress value='21000' class='' max='21000' style='width:300px; height:20px; vertical-align: middle;'></progress>\n      100.00% [21000/21000 00:13&lt;00:00 Sampling chain 0, 0 divergences]\n    </div>\n    "
     },
     "metadata": {},
     "output_type": "display_data"
    },
    {
     "name": "stderr",
     "output_type": "stream",
     "text": [
      "Sampling 1 chain for 1_000 tune and 20_000 draw iterations (1_000 + 20_000 draws total) took 13 seconds.\n",
      "Only one chain was sampled, this makes it impossible to run some convergence checks\n",
      "Auto-assigning NUTS sampler...\n",
      "Initializing NUTS using jitter+adapt_diag...\n",
      "Sequential sampling (1 chains in 1 job)\n",
      "NUTS: [beta0, beta1, stdev]\n"
     ]
    },
    {
     "data": {
      "text/plain": "<IPython.core.display.HTML object>",
      "text/html": "\n<style>\n    /* Turns off some styling */\n    progress {\n        /* gets rid of default border in Firefox and Opera. */\n        border: none;\n        /* Needs to be in here for Safari polyfill so background images work as expected. */\n        background-size: auto;\n    }\n    progress:not([value]), progress:not([value])::-webkit-progress-bar {\n        background: repeating-linear-gradient(45deg, #7e7e7e, #7e7e7e 10px, #5c5c5c 10px, #5c5c5c 20px);\n    }\n    .progress-bar-interrupted, .progress-bar-interrupted::-webkit-progress-bar {\n        background: #F44336;\n    }\n</style>\n"
     },
     "metadata": {},
     "output_type": "display_data"
    },
    {
     "data": {
      "text/plain": "<IPython.core.display.HTML object>",
      "text/html": "\n    <div>\n      <progress value='21000' class='' max='21000' style='width:300px; height:20px; vertical-align: middle;'></progress>\n      100.00% [21000/21000 00:12&lt;00:00 Sampling chain 0, 0 divergences]\n    </div>\n    "
     },
     "metadata": {},
     "output_type": "display_data"
    },
    {
     "name": "stderr",
     "output_type": "stream",
     "text": [
      "Sampling 1 chain for 1_000 tune and 20_000 draw iterations (1_000 + 20_000 draws total) took 12 seconds.\n",
      "Only one chain was sampled, this makes it impossible to run some convergence checks\n",
      "Auto-assigning NUTS sampler...\n",
      "Initializing NUTS using jitter+adapt_diag...\n",
      "Sequential sampling (1 chains in 1 job)\n",
      "NUTS: [beta0, beta1, stdev]\n"
     ]
    },
    {
     "data": {
      "text/plain": "<IPython.core.display.HTML object>",
      "text/html": "\n<style>\n    /* Turns off some styling */\n    progress {\n        /* gets rid of default border in Firefox and Opera. */\n        border: none;\n        /* Needs to be in here for Safari polyfill so background images work as expected. */\n        background-size: auto;\n    }\n    progress:not([value]), progress:not([value])::-webkit-progress-bar {\n        background: repeating-linear-gradient(45deg, #7e7e7e, #7e7e7e 10px, #5c5c5c 10px, #5c5c5c 20px);\n    }\n    .progress-bar-interrupted, .progress-bar-interrupted::-webkit-progress-bar {\n        background: #F44336;\n    }\n</style>\n"
     },
     "metadata": {},
     "output_type": "display_data"
    },
    {
     "data": {
      "text/plain": "<IPython.core.display.HTML object>",
      "text/html": "\n    <div>\n      <progress value='21000' class='' max='21000' style='width:300px; height:20px; vertical-align: middle;'></progress>\n      100.00% [21000/21000 00:13&lt;00:00 Sampling chain 0, 0 divergences]\n    </div>\n    "
     },
     "metadata": {},
     "output_type": "display_data"
    },
    {
     "name": "stderr",
     "output_type": "stream",
     "text": [
      "Sampling 1 chain for 1_000 tune and 20_000 draw iterations (1_000 + 20_000 draws total) took 14 seconds.\n",
      "Only one chain was sampled, this makes it impossible to run some convergence checks\n",
      "Auto-assigning NUTS sampler...\n",
      "Initializing NUTS using jitter+adapt_diag...\n",
      "Sequential sampling (1 chains in 1 job)\n",
      "NUTS: [beta0, beta1, stdev]\n"
     ]
    },
    {
     "data": {
      "text/plain": "<IPython.core.display.HTML object>",
      "text/html": "\n<style>\n    /* Turns off some styling */\n    progress {\n        /* gets rid of default border in Firefox and Opera. */\n        border: none;\n        /* Needs to be in here for Safari polyfill so background images work as expected. */\n        background-size: auto;\n    }\n    progress:not([value]), progress:not([value])::-webkit-progress-bar {\n        background: repeating-linear-gradient(45deg, #7e7e7e, #7e7e7e 10px, #5c5c5c 10px, #5c5c5c 20px);\n    }\n    .progress-bar-interrupted, .progress-bar-interrupted::-webkit-progress-bar {\n        background: #F44336;\n    }\n</style>\n"
     },
     "metadata": {},
     "output_type": "display_data"
    },
    {
     "data": {
      "text/plain": "<IPython.core.display.HTML object>",
      "text/html": "\n    <div>\n      <progress value='21000' class='' max='21000' style='width:300px; height:20px; vertical-align: middle;'></progress>\n      100.00% [21000/21000 00:11&lt;00:00 Sampling chain 0, 0 divergences]\n    </div>\n    "
     },
     "metadata": {},
     "output_type": "display_data"
    },
    {
     "name": "stderr",
     "output_type": "stream",
     "text": [
      "Sampling 1 chain for 1_000 tune and 20_000 draw iterations (1_000 + 20_000 draws total) took 11 seconds.\n",
      "Only one chain was sampled, this makes it impossible to run some convergence checks\n",
      "Auto-assigning NUTS sampler...\n",
      "Initializing NUTS using jitter+adapt_diag...\n",
      "Sequential sampling (1 chains in 1 job)\n",
      "NUTS: [beta0, beta1, stdev]\n"
     ]
    },
    {
     "data": {
      "text/plain": "<IPython.core.display.HTML object>",
      "text/html": "\n<style>\n    /* Turns off some styling */\n    progress {\n        /* gets rid of default border in Firefox and Opera. */\n        border: none;\n        /* Needs to be in here for Safari polyfill so background images work as expected. */\n        background-size: auto;\n    }\n    progress:not([value]), progress:not([value])::-webkit-progress-bar {\n        background: repeating-linear-gradient(45deg, #7e7e7e, #7e7e7e 10px, #5c5c5c 10px, #5c5c5c 20px);\n    }\n    .progress-bar-interrupted, .progress-bar-interrupted::-webkit-progress-bar {\n        background: #F44336;\n    }\n</style>\n"
     },
     "metadata": {},
     "output_type": "display_data"
    },
    {
     "data": {
      "text/plain": "<IPython.core.display.HTML object>",
      "text/html": "\n    <div>\n      <progress value='21000' class='' max='21000' style='width:300px; height:20px; vertical-align: middle;'></progress>\n      100.00% [21000/21000 00:13&lt;00:00 Sampling chain 0, 0 divergences]\n    </div>\n    "
     },
     "metadata": {},
     "output_type": "display_data"
    },
    {
     "name": "stderr",
     "output_type": "stream",
     "text": [
      "Sampling 1 chain for 1_000 tune and 20_000 draw iterations (1_000 + 20_000 draws total) took 14 seconds.\n",
      "Only one chain was sampled, this makes it impossible to run some convergence checks\n",
      "Auto-assigning NUTS sampler...\n",
      "Initializing NUTS using jitter+adapt_diag...\n",
      "Sequential sampling (1 chains in 1 job)\n",
      "NUTS: [beta0, beta1, stdev]\n"
     ]
    },
    {
     "data": {
      "text/plain": "<IPython.core.display.HTML object>",
      "text/html": "\n<style>\n    /* Turns off some styling */\n    progress {\n        /* gets rid of default border in Firefox and Opera. */\n        border: none;\n        /* Needs to be in here for Safari polyfill so background images work as expected. */\n        background-size: auto;\n    }\n    progress:not([value]), progress:not([value])::-webkit-progress-bar {\n        background: repeating-linear-gradient(45deg, #7e7e7e, #7e7e7e 10px, #5c5c5c 10px, #5c5c5c 20px);\n    }\n    .progress-bar-interrupted, .progress-bar-interrupted::-webkit-progress-bar {\n        background: #F44336;\n    }\n</style>\n"
     },
     "metadata": {},
     "output_type": "display_data"
    },
    {
     "data": {
      "text/plain": "<IPython.core.display.HTML object>",
      "text/html": "\n    <div>\n      <progress value='21000' class='' max='21000' style='width:300px; height:20px; vertical-align: middle;'></progress>\n      100.00% [21000/21000 00:12&lt;00:00 Sampling chain 0, 0 divergences]\n    </div>\n    "
     },
     "metadata": {},
     "output_type": "display_data"
    },
    {
     "name": "stderr",
     "output_type": "stream",
     "text": [
      "Sampling 1 chain for 1_000 tune and 20_000 draw iterations (1_000 + 20_000 draws total) took 13 seconds.\n",
      "Only one chain was sampled, this makes it impossible to run some convergence checks\n"
     ]
    }
   ],
   "source": [
    "model_dict = train(universe, with_esg=False)"
   ],
   "metadata": {
    "collapsed": false,
    "ExecuteTime": {
     "end_time": "2024-03-25T11:34:56.595550Z",
     "start_time": "2024-03-25T11:32:06.727742Z"
    }
   },
   "id": "79b53d60003a9991",
   "execution_count": 6
  },
  {
   "cell_type": "code",
   "outputs": [
    {
     "name": "stdout",
     "output_type": "stream",
     "text": [
      "2022-01-31 00:00:00\n"
     ]
    },
    {
     "name": "stderr",
     "output_type": "stream",
     "text": [
      "C:\\Users\\TGAdmin\\anaconda3\\envs\\pymc_env\\Lib\\site-packages\\pypfopt\\black_litterman.py:80: FutureWarning: The default fill_method='pad' in Series.pct_change is deprecated and will be removed in a future version. Either fill in any non-leading NA values prior to calling pct_change or specify 'fill_method=None' to not fill NA values.\n",
      "  rets = market_prices.pct_change().dropna()\n",
      "C:\\Users\\TGAdmin\\anaconda3\\envs\\pymc_env\\Lib\\site-packages\\pypfopt\\efficient_frontier\\efficient_frontier.py:259: UserWarning: max_sharpe transforms the optimization problem so additional objectives may not work as expected.\n",
      "  warnings.warn(\n"
     ]
    },
    {
     "name": "stdout",
     "output_type": "stream",
     "text": [
      "Expected annual return: 2.0%\n",
      "Annual volatility: 18.4%\n",
      "Sharpe Ratio: 0.10\n",
      "2022-02-28 00:00:00\n"
     ]
    },
    {
     "name": "stderr",
     "output_type": "stream",
     "text": [
      "C:\\Users\\TGAdmin\\anaconda3\\envs\\pymc_env\\Lib\\site-packages\\pypfopt\\black_litterman.py:80: FutureWarning: The default fill_method='pad' in Series.pct_change is deprecated and will be removed in a future version. Either fill in any non-leading NA values prior to calling pct_change or specify 'fill_method=None' to not fill NA values.\n",
      "  rets = market_prices.pct_change().dropna()\n",
      "C:\\Users\\TGAdmin\\anaconda3\\envs\\pymc_env\\Lib\\site-packages\\pypfopt\\efficient_frontier\\efficient_frontier.py:259: UserWarning: max_sharpe transforms the optimization problem so additional objectives may not work as expected.\n",
      "  warnings.warn(\n"
     ]
    },
    {
     "name": "stdout",
     "output_type": "stream",
     "text": [
      "Expected annual return: 0.7%\n",
      "Annual volatility: 14.8%\n",
      "Sharpe Ratio: 0.03\n",
      "2022-03-31 00:00:00\n"
     ]
    },
    {
     "name": "stderr",
     "output_type": "stream",
     "text": [
      "C:\\Users\\TGAdmin\\anaconda3\\envs\\pymc_env\\Lib\\site-packages\\pypfopt\\black_litterman.py:80: FutureWarning: The default fill_method='pad' in Series.pct_change is deprecated and will be removed in a future version. Either fill in any non-leading NA values prior to calling pct_change or specify 'fill_method=None' to not fill NA values.\n",
      "  rets = market_prices.pct_change().dropna()\n",
      "C:\\Users\\TGAdmin\\anaconda3\\envs\\pymc_env\\Lib\\site-packages\\pypfopt\\efficient_frontier\\efficient_frontier.py:259: UserWarning: max_sharpe transforms the optimization problem so additional objectives may not work as expected.\n",
      "  warnings.warn(\n"
     ]
    },
    {
     "name": "stdout",
     "output_type": "stream",
     "text": [
      "Expected annual return: 2.3%\n",
      "Annual volatility: 30.7%\n",
      "Sharpe Ratio: 0.07\n",
      "2022-04-30 00:00:00\n"
     ]
    },
    {
     "name": "stderr",
     "output_type": "stream",
     "text": [
      "C:\\Users\\TGAdmin\\anaconda3\\envs\\pymc_env\\Lib\\site-packages\\pypfopt\\black_litterman.py:80: FutureWarning: The default fill_method='pad' in Series.pct_change is deprecated and will be removed in a future version. Either fill in any non-leading NA values prior to calling pct_change or specify 'fill_method=None' to not fill NA values.\n",
      "  rets = market_prices.pct_change().dropna()\n",
      "C:\\Users\\TGAdmin\\anaconda3\\envs\\pymc_env\\Lib\\site-packages\\pypfopt\\efficient_frontier\\efficient_frontier.py:259: UserWarning: max_sharpe transforms the optimization problem so additional objectives may not work as expected.\n",
      "  warnings.warn(\n"
     ]
    },
    {
     "name": "stdout",
     "output_type": "stream",
     "text": [
      "Expected annual return: 0.7%\n",
      "Annual volatility: 19.2%\n",
      "Sharpe Ratio: 0.03\n",
      "2022-05-31 00:00:00\n"
     ]
    },
    {
     "name": "stderr",
     "output_type": "stream",
     "text": [
      "C:\\Users\\TGAdmin\\anaconda3\\envs\\pymc_env\\Lib\\site-packages\\pypfopt\\black_litterman.py:80: FutureWarning: The default fill_method='pad' in Series.pct_change is deprecated and will be removed in a future version. Either fill in any non-leading NA values prior to calling pct_change or specify 'fill_method=None' to not fill NA values.\n",
      "  rets = market_prices.pct_change().dropna()\n",
      "C:\\Users\\TGAdmin\\anaconda3\\envs\\pymc_env\\Lib\\site-packages\\pypfopt\\efficient_frontier\\efficient_frontier.py:259: UserWarning: max_sharpe transforms the optimization problem so additional objectives may not work as expected.\n",
      "  warnings.warn(\n"
     ]
    },
    {
     "name": "stdout",
     "output_type": "stream",
     "text": [
      "Expected annual return: 1.4%\n",
      "Annual volatility: 28.0%\n",
      "Sharpe Ratio: 0.04\n",
      "2022-06-30 00:00:00\n"
     ]
    },
    {
     "name": "stderr",
     "output_type": "stream",
     "text": [
      "C:\\Users\\TGAdmin\\anaconda3\\envs\\pymc_env\\Lib\\site-packages\\pypfopt\\black_litterman.py:80: FutureWarning: The default fill_method='pad' in Series.pct_change is deprecated and will be removed in a future version. Either fill in any non-leading NA values prior to calling pct_change or specify 'fill_method=None' to not fill NA values.\n",
      "  rets = market_prices.pct_change().dropna()\n",
      "C:\\Users\\TGAdmin\\anaconda3\\envs\\pymc_env\\Lib\\site-packages\\pypfopt\\efficient_frontier\\efficient_frontier.py:259: UserWarning: max_sharpe transforms the optimization problem so additional objectives may not work as expected.\n",
      "  warnings.warn(\n"
     ]
    },
    {
     "name": "stdout",
     "output_type": "stream",
     "text": [
      "Expected annual return: 0.7%\n",
      "Annual volatility: 19.9%\n",
      "Sharpe Ratio: 0.03\n",
      "2022-07-31 00:00:00\n"
     ]
    },
    {
     "name": "stderr",
     "output_type": "stream",
     "text": [
      "C:\\Users\\TGAdmin\\anaconda3\\envs\\pymc_env\\Lib\\site-packages\\pypfopt\\black_litterman.py:80: FutureWarning: The default fill_method='pad' in Series.pct_change is deprecated and will be removed in a future version. Either fill in any non-leading NA values prior to calling pct_change or specify 'fill_method=None' to not fill NA values.\n",
      "  rets = market_prices.pct_change().dropna()\n",
      "C:\\Users\\TGAdmin\\anaconda3\\envs\\pymc_env\\Lib\\site-packages\\pypfopt\\efficient_frontier\\efficient_frontier.py:259: UserWarning: max_sharpe transforms the optimization problem so additional objectives may not work as expected.\n",
      "  warnings.warn(\n"
     ]
    },
    {
     "name": "stdout",
     "output_type": "stream",
     "text": [
      "Expected annual return: 1.2%\n",
      "Annual volatility: 19.5%\n",
      "Sharpe Ratio: 0.05\n",
      "2022-08-31 00:00:00\n"
     ]
    },
    {
     "name": "stderr",
     "output_type": "stream",
     "text": [
      "C:\\Users\\TGAdmin\\anaconda3\\envs\\pymc_env\\Lib\\site-packages\\pypfopt\\black_litterman.py:80: FutureWarning: The default fill_method='pad' in Series.pct_change is deprecated and will be removed in a future version. Either fill in any non-leading NA values prior to calling pct_change or specify 'fill_method=None' to not fill NA values.\n",
      "  rets = market_prices.pct_change().dropna()\n",
      "C:\\Users\\TGAdmin\\anaconda3\\envs\\pymc_env\\Lib\\site-packages\\pypfopt\\efficient_frontier\\efficient_frontier.py:259: UserWarning: max_sharpe transforms the optimization problem so additional objectives may not work as expected.\n",
      "  warnings.warn(\n"
     ]
    },
    {
     "name": "stdout",
     "output_type": "stream",
     "text": [
      "Expected annual return: 2.4%\n",
      "Annual volatility: 32.0%\n",
      "Sharpe Ratio: 0.07\n",
      "2022-09-30 00:00:00\n"
     ]
    },
    {
     "name": "stderr",
     "output_type": "stream",
     "text": [
      "C:\\Users\\TGAdmin\\anaconda3\\envs\\pymc_env\\Lib\\site-packages\\pypfopt\\black_litterman.py:80: FutureWarning: The default fill_method='pad' in Series.pct_change is deprecated and will be removed in a future version. Either fill in any non-leading NA values prior to calling pct_change or specify 'fill_method=None' to not fill NA values.\n",
      "  rets = market_prices.pct_change().dropna()\n",
      "C:\\Users\\TGAdmin\\anaconda3\\envs\\pymc_env\\Lib\\site-packages\\pypfopt\\efficient_frontier\\efficient_frontier.py:259: UserWarning: max_sharpe transforms the optimization problem so additional objectives may not work as expected.\n",
      "  warnings.warn(\n"
     ]
    },
    {
     "name": "stdout",
     "output_type": "stream",
     "text": [
      "Expected annual return: 2.9%\n",
      "Annual volatility: 29.6%\n",
      "Sharpe Ratio: 0.09\n",
      "2022-10-31 00:00:00\n"
     ]
    },
    {
     "name": "stderr",
     "output_type": "stream",
     "text": [
      "C:\\Users\\TGAdmin\\anaconda3\\envs\\pymc_env\\Lib\\site-packages\\pypfopt\\black_litterman.py:80: FutureWarning: The default fill_method='pad' in Series.pct_change is deprecated and will be removed in a future version. Either fill in any non-leading NA values prior to calling pct_change or specify 'fill_method=None' to not fill NA values.\n",
      "  rets = market_prices.pct_change().dropna()\n",
      "C:\\Users\\TGAdmin\\anaconda3\\envs\\pymc_env\\Lib\\site-packages\\pypfopt\\efficient_frontier\\efficient_frontier.py:259: UserWarning: max_sharpe transforms the optimization problem so additional objectives may not work as expected.\n",
      "  warnings.warn(\n"
     ]
    },
    {
     "name": "stdout",
     "output_type": "stream",
     "text": [
      "Expected annual return: 3.2%\n",
      "Annual volatility: 21.1%\n",
      "Sharpe Ratio: 0.14\n",
      "2022-11-30 00:00:00\n"
     ]
    },
    {
     "name": "stderr",
     "output_type": "stream",
     "text": [
      "C:\\Users\\TGAdmin\\anaconda3\\envs\\pymc_env\\Lib\\site-packages\\pypfopt\\black_litterman.py:80: FutureWarning: The default fill_method='pad' in Series.pct_change is deprecated and will be removed in a future version. Either fill in any non-leading NA values prior to calling pct_change or specify 'fill_method=None' to not fill NA values.\n",
      "  rets = market_prices.pct_change().dropna()\n",
      "C:\\Users\\TGAdmin\\anaconda3\\envs\\pymc_env\\Lib\\site-packages\\pypfopt\\efficient_frontier\\efficient_frontier.py:259: UserWarning: max_sharpe transforms the optimization problem so additional objectives may not work as expected.\n",
      "  warnings.warn(\n"
     ]
    },
    {
     "name": "stdout",
     "output_type": "stream",
     "text": [
      "Expected annual return: 0.5%\n",
      "Annual volatility: 20.0%\n",
      "Sharpe Ratio: 0.01\n",
      "2022-12-31 00:00:00\n",
      "Expected annual return: 1.6%\n",
      "Annual volatility: 28.3%\n",
      "Sharpe Ratio: 0.05\n"
     ]
    },
    {
     "name": "stderr",
     "output_type": "stream",
     "text": [
      "C:\\Users\\TGAdmin\\anaconda3\\envs\\pymc_env\\Lib\\site-packages\\pypfopt\\black_litterman.py:80: FutureWarning: The default fill_method='pad' in Series.pct_change is deprecated and will be removed in a future version. Either fill in any non-leading NA values prior to calling pct_change or specify 'fill_method=None' to not fill NA values.\n",
      "  rets = market_prices.pct_change().dropna()\n",
      "C:\\Users\\TGAdmin\\anaconda3\\envs\\pymc_env\\Lib\\site-packages\\pypfopt\\efficient_frontier\\efficient_frontier.py:259: UserWarning: max_sharpe transforms the optimization problem so additional objectives may not work as expected.\n",
      "  warnings.warn(\n"
     ]
    }
   ],
   "source": [
    "weights_dict = {}\n",
    "perf_dict = {}\n",
    "for idx in X_test.index:\n",
    "    print(idx)\n",
    "    portfolio = stock_prices.loc['2022-01-01':idx, universe]\n",
    "    market_prices = stock_prices.loc['2015-01-01':idx, 'SET_index']\n",
    "    mcaps = {}\n",
    "    for t in universe:\n",
    "        stock = yf.Ticker(t)\n",
    "        mcaps[t] = stock.info[\"marketCap\"]\n",
    "    S = risk_models.CovarianceShrinkage(portfolio).ledoit_wolf()\n",
    "    delta = black_litterman.market_implied_risk_aversion(market_prices)\n",
    "    market_prior = black_litterman.market_implied_prior_returns(mcaps, delta, S)\n",
    "\n",
    "    views = {}\n",
    "    view_uncertainty = {}\n",
    "    for symbol in universe:\n",
    "        pred = predict(X_test.loc[idx, :], symbol, model_dict[symbol], with_esg=False)\n",
    "        views[symbol] = pred.mean()\n",
    "        view_uncertainty[symbol] = pred.var()\n",
    "\n",
    "    omega = np.diag(list(view_uncertainty.values()))\n",
    "\n",
    "    bl = BlackLittermanModel(S, pi=\"equal\",\n",
    "                             absolute_views=views, omega=omega)\n",
    "\n",
    "    ret_bl = bl.bl_returns()\n",
    "    S_bl = bl.bl_cov()\n",
    "\n",
    "    ef = EfficientFrontier(ret_bl, S_bl)\n",
    "    ef.add_objective(objective_functions.L2_reg)\n",
    "    ef.max_sharpe(risk_free_rate=0.0227/12)\n",
    "    weights = ef.clean_weights()\n",
    "    weights_dict[idx] = weights\n",
    "    perf_dict[idx] = ef.portfolio_performance(risk_free_rate=0.0227/12, verbose=True)\n"
   ],
   "metadata": {
    "collapsed": false,
    "ExecuteTime": {
     "end_time": "2024-03-25T11:35:03.533331Z",
     "start_time": "2024-03-25T11:34:56.596558Z"
    }
   },
   "id": "acfaded254fea0fd",
   "execution_count": 7
  },
  {
   "cell_type": "code",
   "outputs": [
    {
     "name": "stdout",
     "output_type": "stream",
     "text": [
      "2023-02-28\n"
     ]
    }
   ],
   "source": [
    "from dateutil.relativedelta import relativedelta\n",
    "import pandas as pd\n",
    "\n",
    "# Example datetime\n",
    "my_datetime = pd.to_datetime('2023-01-31')\n",
    "\n",
    "# Add one month\n",
    "my_datetime_plus_one_month = my_datetime + relativedelta(months=1)\n",
    "\n",
    "print(my_datetime_plus_one_month.date())"
   ],
   "metadata": {
    "collapsed": false,
    "ExecuteTime": {
     "end_time": "2024-03-25T14:41:02.488269Z",
     "start_time": "2024-03-25T14:41:02.449599Z"
    }
   },
   "id": "c9529ca35c0772ab",
   "execution_count": 14
  },
  {
   "cell_type": "code",
   "outputs": [],
   "source": [
    "weights_df = pd.DataFrame(weights_dict).T"
   ],
   "metadata": {
    "collapsed": false,
    "ExecuteTime": {
     "end_time": "2024-03-25T11:35:03.540625Z",
     "start_time": "2024-03-25T11:35:03.535357Z"
    }
   },
   "id": "c4535ff4a125a873",
   "execution_count": 8
  },
  {
   "cell_type": "code",
   "outputs": [],
   "source": [
    "perf_df = pd.DataFrame(perf_dict, index=['Annualized return', 'Annualized volatility', 'Sharpe ratio']).T"
   ],
   "metadata": {
    "collapsed": false,
    "ExecuteTime": {
     "end_time": "2024-03-25T15:47:47.682334Z",
     "start_time": "2024-03-25T15:47:47.633072Z"
    }
   },
   "id": "17fc0f80eda2ef4b",
   "execution_count": 15
  },
  {
   "cell_type": "code",
   "outputs": [],
   "source": [
    "# weights_df.to_csv('weights_without_esg.csv')"
   ],
   "metadata": {
    "collapsed": false,
    "ExecuteTime": {
     "end_time": "2024-03-25T11:35:03.554446Z",
     "start_time": "2024-03-25T11:35:03.550710Z"
    }
   },
   "id": "3cef727b1b4f78f1",
   "execution_count": 10
  },
  {
   "cell_type": "code",
   "outputs": [],
   "source": [
    "# perf_df.to_csv('perf_without_esg.csv')"
   ],
   "metadata": {
    "collapsed": false,
    "ExecuteTime": {
     "end_time": "2024-03-25T11:35:03.559242Z",
     "start_time": "2024-03-25T11:35:03.555454Z"
    }
   },
   "id": "432cbd69954ed15",
   "execution_count": 11
  },
  {
   "cell_type": "code",
   "outputs": [
    {
     "data": {
      "text/plain": "            Annualized return  Annualized volatility  Sharpe ratio\n2022-01-31           0.020113               0.184252      0.098895\n2022-02-28           0.006761               0.147613      0.032988\n2022-03-31           0.023487               0.306634      0.070427\n2022-04-30           0.007473               0.191621      0.029126\n2022-05-31           0.014248               0.279659      0.044183\n2022-06-30           0.007280               0.198851      0.027095\n2022-07-31           0.012230               0.194838      0.053059\n2022-08-31           0.023529               0.320372      0.067539\n2022-09-30           0.028844               0.295832      0.091107\n2022-10-31           0.031739               0.211191      0.141328\n2022-11-30           0.004752               0.200190      0.014290\n2022-12-31           0.016234               0.282759      0.050723",
      "text/html": "<div>\n<style scoped>\n    .dataframe tbody tr th:only-of-type {\n        vertical-align: middle;\n    }\n\n    .dataframe tbody tr th {\n        vertical-align: top;\n    }\n\n    .dataframe thead th {\n        text-align: right;\n    }\n</style>\n<table border=\"1\" class=\"dataframe\">\n  <thead>\n    <tr style=\"text-align: right;\">\n      <th></th>\n      <th>Annualized return</th>\n      <th>Annualized volatility</th>\n      <th>Sharpe ratio</th>\n    </tr>\n  </thead>\n  <tbody>\n    <tr>\n      <th>2022-01-31</th>\n      <td>0.020113</td>\n      <td>0.184252</td>\n      <td>0.098895</td>\n    </tr>\n    <tr>\n      <th>2022-02-28</th>\n      <td>0.006761</td>\n      <td>0.147613</td>\n      <td>0.032988</td>\n    </tr>\n    <tr>\n      <th>2022-03-31</th>\n      <td>0.023487</td>\n      <td>0.306634</td>\n      <td>0.070427</td>\n    </tr>\n    <tr>\n      <th>2022-04-30</th>\n      <td>0.007473</td>\n      <td>0.191621</td>\n      <td>0.029126</td>\n    </tr>\n    <tr>\n      <th>2022-05-31</th>\n      <td>0.014248</td>\n      <td>0.279659</td>\n      <td>0.044183</td>\n    </tr>\n    <tr>\n      <th>2022-06-30</th>\n      <td>0.007280</td>\n      <td>0.198851</td>\n      <td>0.027095</td>\n    </tr>\n    <tr>\n      <th>2022-07-31</th>\n      <td>0.012230</td>\n      <td>0.194838</td>\n      <td>0.053059</td>\n    </tr>\n    <tr>\n      <th>2022-08-31</th>\n      <td>0.023529</td>\n      <td>0.320372</td>\n      <td>0.067539</td>\n    </tr>\n    <tr>\n      <th>2022-09-30</th>\n      <td>0.028844</td>\n      <td>0.295832</td>\n      <td>0.091107</td>\n    </tr>\n    <tr>\n      <th>2022-10-31</th>\n      <td>0.031739</td>\n      <td>0.211191</td>\n      <td>0.141328</td>\n    </tr>\n    <tr>\n      <th>2022-11-30</th>\n      <td>0.004752</td>\n      <td>0.200190</td>\n      <td>0.014290</td>\n    </tr>\n    <tr>\n      <th>2022-12-31</th>\n      <td>0.016234</td>\n      <td>0.282759</td>\n      <td>0.050723</td>\n    </tr>\n  </tbody>\n</table>\n</div>"
     },
     "execution_count": 16,
     "metadata": {},
     "output_type": "execute_result"
    }
   ],
   "source": [
    "perf_df"
   ],
   "metadata": {
    "collapsed": false,
    "ExecuteTime": {
     "end_time": "2024-03-25T15:47:53.324792Z",
     "start_time": "2024-03-25T15:47:53.260017Z"
    }
   },
   "id": "6c8841b72fbd34c0",
   "execution_count": 16
  },
  {
   "cell_type": "code",
   "outputs": [],
   "source": [],
   "metadata": {
    "collapsed": false
   },
   "id": "1c2c133470519129"
  }
 ],
 "metadata": {
  "kernelspec": {
   "display_name": "Python 3",
   "language": "python",
   "name": "python3"
  },
  "language_info": {
   "codemirror_mode": {
    "name": "ipython",
    "version": 2
   },
   "file_extension": ".py",
   "mimetype": "text/x-python",
   "name": "python",
   "nbconvert_exporter": "python",
   "pygments_lexer": "ipython2",
   "version": "2.7.6"
  }
 },
 "nbformat": 4,
 "nbformat_minor": 5
}
