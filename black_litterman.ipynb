{
 "cells": [
  {
   "cell_type": "code",
   "execution_count": 1,
   "id": "initial_id",
   "metadata": {
    "ExecuteTime": {
     "end_time": "2024-03-22T13:58:05.008793Z",
     "start_time": "2024-03-22T13:58:04.808088Z"
    }
   },
   "outputs": [],
   "source": [
    "#Usual Suspects\n",
    "import pandas as pd\n",
    "import numpy as np\n",
    "import matplotlib.pyplot as plt\n",
    "import plotly.express as px\n",
    "import seaborn as sns\n",
    "\n",
    "import yfinance as yf\n",
    "# Use PyPortfolioOpt for Calculations\n",
    "from pypfopt import EfficientFrontier, objective_functions\n",
    "from pypfopt import black_litterman, risk_models\n",
    "from pypfopt import BlackLittermanModel, plotting\n",
    "from pypfopt import DiscreteAllocation"
   ]
  },
  {
   "cell_type": "code",
   "execution_count": 2,
   "id": "9977b141f31f20f0",
   "metadata": {
    "ExecuteTime": {
     "end_time": "2024-03-22T14:03:08.317501Z",
     "start_time": "2024-03-22T14:03:08.313209Z"
    },
    "collapsed": false,
    "jupyter": {
     "outputs_hidden": false
    }
   },
   "outputs": [],
   "source": [
    "symbols = ['MINT.BK', 'BANPU.BK', 'TOP.BK', 'DELTA.BK', 'IRPC.BK', 'PTTGC.BK', 'WHA.BK', 'SCC.BK', 'CPN.BK', 'CENTEL.BK', 'PTT.BK', 'BCP.BK'] "
   ]
  },
  {
   "cell_type": "code",
   "execution_count": 63,
   "id": "a8d898cf-4321-4f92-9fea-b190348930f3",
   "metadata": {},
   "outputs": [
    {
     "name": "stderr",
     "output_type": "stream",
     "text": [
      "C:\\Users\\TGAdmin\\anaconda3\\envs\\pymc_env\\Lib\\site-packages\\yfinance\\utils.py:775: FutureWarning: The 'unit' keyword in TimedeltaIndex construction is deprecated and will be removed in a future version. Use pd.to_timedelta instead.\n",
      "  df.index += _pd.TimedeltaIndex(dst_error_hours, 'h')\n",
      "C:\\Users\\TGAdmin\\anaconda3\\envs\\pymc_env\\Lib\\site-packages\\yfinance\\utils.py:775: FutureWarning: The 'unit' keyword in TimedeltaIndex construction is deprecated and will be removed in a future version. Use pd.to_timedelta instead.\n",
      "  df.index += _pd.TimedeltaIndex(dst_error_hours, 'h')\n",
      "[                       0%%                      ]C:\\Users\\TGAdmin\\anaconda3\\envs\\pymc_env\\Lib\\site-packages\\yfinance\\utils.py:775: FutureWarning: The 'unit' keyword in TimedeltaIndex construction is deprecated and will be removed in a future version. Use pd.to_timedelta instead.\n",
      "  df.index += _pd.TimedeltaIndex(dst_error_hours, 'h')\n",
      "[                       0%%                      ]C:\\Users\\TGAdmin\\anaconda3\\envs\\pymc_env\\Lib\\site-packages\\yfinance\\utils.py:775: FutureWarning: The 'unit' keyword in TimedeltaIndex construction is deprecated and will be removed in a future version. Use pd.to_timedelta instead.\n",
      "  df.index += _pd.TimedeltaIndex(dst_error_hours, 'h')\n",
      "[************          25%%                      ]  3 of 12 completedC:\\Users\\TGAdmin\\anaconda3\\envs\\pymc_env\\Lib\\site-packages\\yfinance\\utils.py:775: FutureWarning: The 'unit' keyword in TimedeltaIndex construction is deprecated and will be removed in a future version. Use pd.to_timedelta instead.\n",
      "  df.index += _pd.TimedeltaIndex(dst_error_hours, 'h')\n",
      "[****************      33%%                      ]  4 of 12 completedC:\\Users\\TGAdmin\\anaconda3\\envs\\pymc_env\\Lib\\site-packages\\yfinance\\utils.py:775: FutureWarning: The 'unit' keyword in TimedeltaIndex construction is deprecated and will be removed in a future version. Use pd.to_timedelta instead.\n",
      "  df.index += _pd.TimedeltaIndex(dst_error_hours, 'h')\n",
      "C:\\Users\\TGAdmin\\anaconda3\\envs\\pymc_env\\Lib\\site-packages\\yfinance\\utils.py:775: FutureWarning: The 'unit' keyword in TimedeltaIndex construction is deprecated and will be removed in a future version. Use pd.to_timedelta instead.\n",
      "  df.index += _pd.TimedeltaIndex(dst_error_hours, 'h')\n",
      "[**********************50%%                      ]  6 of 12 completedC:\\Users\\TGAdmin\\anaconda3\\envs\\pymc_env\\Lib\\site-packages\\yfinance\\utils.py:775: FutureWarning: The 'unit' keyword in TimedeltaIndex construction is deprecated and will be removed in a future version. Use pd.to_timedelta instead.\n",
      "  df.index += _pd.TimedeltaIndex(dst_error_hours, 'h')\n",
      "[**********************50%%                      ]  6 of 12 completedC:\\Users\\TGAdmin\\anaconda3\\envs\\pymc_env\\Lib\\site-packages\\yfinance\\utils.py:775: FutureWarning: The 'unit' keyword in TimedeltaIndex construction is deprecated and will be removed in a future version. Use pd.to_timedelta instead.\n",
      "  df.index += _pd.TimedeltaIndex(dst_error_hours, 'h')\n",
      "[**********************67%%******                ]  8 of 12 completedC:\\Users\\TGAdmin\\anaconda3\\envs\\pymc_env\\Lib\\site-packages\\yfinance\\utils.py:775: FutureWarning: The 'unit' keyword in TimedeltaIndex construction is deprecated and will be removed in a future version. Use pd.to_timedelta instead.\n",
      "  df.index += _pd.TimedeltaIndex(dst_error_hours, 'h')\n",
      "[**********************75%%**********            ]  9 of 12 completedC:\\Users\\TGAdmin\\anaconda3\\envs\\pymc_env\\Lib\\site-packages\\yfinance\\utils.py:775: FutureWarning: The 'unit' keyword in TimedeltaIndex construction is deprecated and will be removed in a future version. Use pd.to_timedelta instead.\n",
      "  df.index += _pd.TimedeltaIndex(dst_error_hours, 'h')\n",
      "[**********************83%%**************        ]  10 of 12 completedC:\\Users\\TGAdmin\\anaconda3\\envs\\pymc_env\\Lib\\site-packages\\yfinance\\utils.py:775: FutureWarning: The 'unit' keyword in TimedeltaIndex construction is deprecated and will be removed in a future version. Use pd.to_timedelta instead.\n",
      "  df.index += _pd.TimedeltaIndex(dst_error_hours, 'h')\n",
      "[*********************100%%**********************]  12 of 12 completed\n"
     ]
    },
    {
     "data": {
      "text/html": [
       "<div>\n",
       "<style scoped>\n",
       "    .dataframe tbody tr th:only-of-type {\n",
       "        vertical-align: middle;\n",
       "    }\n",
       "\n",
       "    .dataframe tbody tr th {\n",
       "        vertical-align: top;\n",
       "    }\n",
       "\n",
       "    .dataframe thead th {\n",
       "        text-align: right;\n",
       "    }\n",
       "</style>\n",
       "<table border=\"1\" class=\"dataframe\">\n",
       "  <thead>\n",
       "    <tr style=\"text-align: right;\">\n",
       "      <th>Ticker</th>\n",
       "      <th>BANPU.BK</th>\n",
       "      <th>BCP.BK</th>\n",
       "      <th>CENTEL.BK</th>\n",
       "      <th>CPN.BK</th>\n",
       "      <th>DELTA.BK</th>\n",
       "      <th>IRPC.BK</th>\n",
       "      <th>MINT.BK</th>\n",
       "      <th>PTT.BK</th>\n",
       "      <th>PTTGC.BK</th>\n",
       "      <th>SCC.BK</th>\n",
       "      <th>TOP.BK</th>\n",
       "      <th>WHA.BK</th>\n",
       "    </tr>\n",
       "    <tr>\n",
       "      <th>Date</th>\n",
       "      <th></th>\n",
       "      <th></th>\n",
       "      <th></th>\n",
       "      <th></th>\n",
       "      <th></th>\n",
       "      <th></th>\n",
       "      <th></th>\n",
       "      <th></th>\n",
       "      <th></th>\n",
       "      <th></th>\n",
       "      <th></th>\n",
       "      <th></th>\n",
       "    </tr>\n",
       "  </thead>\n",
       "  <tbody>\n",
       "    <tr>\n",
       "      <th>2023-01-03</th>\n",
       "      <td>12.099860</td>\n",
       "      <td>29.105591</td>\n",
       "      <td>51.00</td>\n",
       "      <td>68.074379</td>\n",
       "      <td>91.994225</td>\n",
       "      <td>2.886981</td>\n",
       "      <td>31.997320</td>\n",
       "      <td>30.188902</td>\n",
       "      <td>45.603870</td>\n",
       "      <td>337.165344</td>\n",
       "      <td>50.821960</td>\n",
       "      <td>4.052257</td>\n",
       "    </tr>\n",
       "    <tr>\n",
       "      <th>2023-01-04</th>\n",
       "      <td>11.558076</td>\n",
       "      <td>28.412600</td>\n",
       "      <td>52.00</td>\n",
       "      <td>68.313232</td>\n",
       "      <td>90.213684</td>\n",
       "      <td>2.847967</td>\n",
       "      <td>32.243454</td>\n",
       "      <td>29.497553</td>\n",
       "      <td>45.847744</td>\n",
       "      <td>340.122925</td>\n",
       "      <td>49.226654</td>\n",
       "      <td>3.955774</td>\n",
       "    </tr>\n",
       "    <tr>\n",
       "      <th>2023-01-05</th>\n",
       "      <td>11.558076</td>\n",
       "      <td>28.181604</td>\n",
       "      <td>51.25</td>\n",
       "      <td>67.357811</td>\n",
       "      <td>79.728333</td>\n",
       "      <td>2.867474</td>\n",
       "      <td>32.735722</td>\n",
       "      <td>29.728003</td>\n",
       "      <td>45.360004</td>\n",
       "      <td>344.066376</td>\n",
       "      <td>49.226654</td>\n",
       "      <td>3.878589</td>\n",
       "    </tr>\n",
       "    <tr>\n",
       "      <th>2023-01-06</th>\n",
       "      <td>11.106589</td>\n",
       "      <td>28.181604</td>\n",
       "      <td>51.50</td>\n",
       "      <td>68.074379</td>\n",
       "      <td>79.926170</td>\n",
       "      <td>2.867474</td>\n",
       "      <td>32.981853</td>\n",
       "      <td>29.958452</td>\n",
       "      <td>45.116131</td>\n",
       "      <td>345.052246</td>\n",
       "      <td>49.226654</td>\n",
       "      <td>3.917182</td>\n",
       "    </tr>\n",
       "    <tr>\n",
       "      <th>2023-01-09</th>\n",
       "      <td>11.287184</td>\n",
       "      <td>28.874594</td>\n",
       "      <td>51.50</td>\n",
       "      <td>67.835518</td>\n",
       "      <td>83.289391</td>\n",
       "      <td>2.906487</td>\n",
       "      <td>32.981853</td>\n",
       "      <td>30.419353</td>\n",
       "      <td>46.335487</td>\n",
       "      <td>347.023956</td>\n",
       "      <td>49.682457</td>\n",
       "      <td>3.897885</td>\n",
       "    </tr>\n",
       "  </tbody>\n",
       "</table>\n",
       "</div>"
      ],
      "text/plain": [
       "Ticker       BANPU.BK     BCP.BK  CENTEL.BK     CPN.BK   DELTA.BK   IRPC.BK  \\\n",
       "Date                                                                          \n",
       "2023-01-03  12.099860  29.105591      51.00  68.074379  91.994225  2.886981   \n",
       "2023-01-04  11.558076  28.412600      52.00  68.313232  90.213684  2.847967   \n",
       "2023-01-05  11.558076  28.181604      51.25  67.357811  79.728333  2.867474   \n",
       "2023-01-06  11.106589  28.181604      51.50  68.074379  79.926170  2.867474   \n",
       "2023-01-09  11.287184  28.874594      51.50  67.835518  83.289391  2.906487   \n",
       "\n",
       "Ticker        MINT.BK     PTT.BK   PTTGC.BK      SCC.BK     TOP.BK    WHA.BK  \n",
       "Date                                                                          \n",
       "2023-01-03  31.997320  30.188902  45.603870  337.165344  50.821960  4.052257  \n",
       "2023-01-04  32.243454  29.497553  45.847744  340.122925  49.226654  3.955774  \n",
       "2023-01-05  32.735722  29.728003  45.360004  344.066376  49.226654  3.878589  \n",
       "2023-01-06  32.981853  29.958452  45.116131  345.052246  49.226654  3.917182  \n",
       "2023-01-09  32.981853  30.419353  46.335487  347.023956  49.682457  3.897885  "
      ]
     },
     "execution_count": 63,
     "metadata": {},
     "output_type": "execute_result"
    }
   ],
   "source": [
    "#Get the stock data\n",
    "start='2023-01-01'\n",
    "end='2023-01-31'\n",
    "portfolio = yf.download(symbols, start=start, end=end)['Adj Close']\n",
    "\n",
    "portfolio.head()"
   ]
  },
  {
   "cell_type": "code",
   "execution_count": 64,
   "id": "d93dafa2e3779280",
   "metadata": {
    "ExecuteTime": {
     "end_time": "2024-03-22T14:04:10.683361Z",
     "start_time": "2024-03-22T14:04:07.944269Z"
    },
    "collapsed": false,
    "jupyter": {
     "outputs_hidden": false
    }
   },
   "outputs": [
    {
     "name": "stderr",
     "output_type": "stream",
     "text": [
      "C:\\Users\\TGAdmin\\anaconda3\\envs\\pymc_env\\Lib\\site-packages\\yfinance\\utils.py:775: FutureWarning: The 'unit' keyword in TimedeltaIndex construction is deprecated and will be removed in a future version. Use pd.to_timedelta instead.\n",
      "  df.index += _pd.TimedeltaIndex(dst_error_hours, 'h')\n",
      "[*********************100%%**********************]  1 of 1 completed\n"
     ]
    },
    {
     "data": {
      "text/plain": [
       "Date\n",
       "2023-01-03    1678.969971\n",
       "2023-01-04    1673.250000\n",
       "2023-01-05    1663.859985\n",
       "2023-01-06    1673.859985\n",
       "2023-01-09    1691.119995\n",
       "Name: Adj Close, dtype: float64"
      ]
     },
     "execution_count": 64,
     "metadata": {},
     "output_type": "execute_result"
    }
   ],
   "source": [
    "market_prices = yf.download(\"^SET.BK\", start=start, end=end)['Adj Close']\n",
    "market_prices.head()"
   ]
  },
  {
   "cell_type": "code",
   "execution_count": 65,
   "id": "4644614ae25feed2",
   "metadata": {
    "ExecuteTime": {
     "end_time": "2024-03-22T14:03:34.286333Z",
     "start_time": "2024-03-22T14:03:32.905206Z"
    },
    "collapsed": false,
    "jupyter": {
     "outputs_hidden": false
    }
   },
   "outputs": [
    {
     "data": {
      "text/plain": [
       "{'MINT.BK': 189944332288,\n",
       " 'BANPU.BK': 55604895744,\n",
       " 'TOP.BK': 132355031040,\n",
       " 'DELTA.BK': 907468931072,\n",
       " 'IRPC.BK': 38984245248,\n",
       " 'PTTGC.BK': 175845163008,\n",
       " 'WHA.BK': 72043577344,\n",
       " 'SCC.BK': 302400012288,\n",
       " 'CPN.BK': 286109990912,\n",
       " 'CENTEL.BK': 60412502016,\n",
       " 'PTT.BK': 971142004736,\n",
       " 'BCP.BK': 61961404416}"
      ]
     },
     "execution_count": 65,
     "metadata": {},
     "output_type": "execute_result"
    }
   ],
   "source": [
    "mcaps = {}\n",
    "for t in symbols:\n",
    "    stock = yf.Ticker(t)\n",
    "    mcaps[t] = stock.info[\"marketCap\"]\n",
    "mcaps"
   ]
  },
  {
   "cell_type": "code",
   "execution_count": 66,
   "id": "555e49f077739a1f",
   "metadata": {
    "collapsed": false,
    "jupyter": {
     "outputs_hidden": false
    }
   },
   "outputs": [
    {
     "data": {
      "text/plain": [
       "0.03606882566847272"
      ]
     },
     "execution_count": 66,
     "metadata": {},
     "output_type": "execute_result"
    }
   ],
   "source": [
    "S = risk_models.CovarianceShrinkage(portfolio).ledoit_wolf()\n",
    "\n",
    "delta = black_litterman.market_implied_risk_aversion(market_prices)\n",
    "delta"
   ]
  },
  {
   "cell_type": "code",
   "execution_count": 67,
   "id": "05b422cd-7908-429a-876f-206c5d4c8377",
   "metadata": {},
   "outputs": [
    {
     "data": {
      "text/plain": [
       "Ticker\n",
       "BANPU.BK     0.020016\n",
       "BCP.BK       0.020196\n",
       "CENTEL.BK    0.020066\n",
       "CPN.BK       0.020297\n",
       "DELTA.BK     0.021795\n",
       "IRPC.BK      0.020216\n",
       "MINT.BK      0.020021\n",
       "PTT.BK       0.020740\n",
       "PTTGC.BK     0.020412\n",
       "SCC.BK       0.020202\n",
       "TOP.BK       0.020252\n",
       "WHA.BK       0.020324\n",
       "dtype: float64"
      ]
     },
     "execution_count": 67,
     "metadata": {},
     "output_type": "execute_result"
    }
   ],
   "source": [
    "market_prior = black_litterman.market_implied_prior_returns(mcaps, delta, S)\n",
    "market_prior"
   ]
  },
  {
   "cell_type": "code",
   "execution_count": 68,
   "id": "6581b854-f921-4cdf-8ab4-69d7dda3a595",
   "metadata": {},
   "outputs": [
    {
     "data": {
      "image/png": "[encoded data removed]",
      "text/plain": [
       "<Figure size 1000x500 with 1 Axes>"
      ]
     },
     "metadata": {},
     "output_type": "display_data"
    }
   ],
   "source": [
    "market_prior.plot.barh(figsize=(10,5));"
   ]
  },
  {
   "cell_type": "code",
   "execution_count": 69,
   "id": "c938d86c-8047-47b7-bf94-9a2a4e2d1a8b",
   "metadata": {},
   "outputs": [],
   "source": [
    "view_dict = {'MINT.BK': 0.002447271236954671,\n",
    " 'BANPU.BK': -0.023270882382923946,\n",
    " 'TOP.BK': 0.0010678475639648946,\n",
    " 'DELTA.BK': -0.036209614674084026,\n",
    " 'IRPC.BK': -0.027065027967944605,\n",
    " 'PTTGC.BK': -0.005472451794304363,\n",
    " 'WHA.BK': -0.027378454646140943,\n",
    " 'SCC.BK': -0.0008380904988795355,\n",
    " 'CPN.BK': 0.006040208040029777,\n",
    " 'CENTEL.BK': 0.009387247137305484,\n",
    " 'PTT.BK': -0.013693220604347689,\n",
    " 'BCP.BK': -0.05187004701552743}\n",
    "\n",
    "# view_dict= {'MINT.BK': 0.5,\n",
    "#  'BANPU.BK': -0.1,\n",
    "#  'TOP.BK': 0.02,\n",
    "#  'DELTA.BK': 1,\n",
    "#  'IRPC.BK': 0.2,\n",
    "#  'PTTGC.BK': -0.005472451794304363,\n",
    "#  'WHA.BK': -0.027378454646140943,\n",
    "#  'SCC.BK': -0.0008380904988795355,\n",
    "#  'CPN.BK': 0.006040208040029777,\n",
    "#  'CENTEL.BK': 0.009387247137305484,\n",
    "#  'PTT.BK': -0.013693220604347689,\n",
    "#  'BCP.BK': -0.05187004701552743}"
   ]
  },
  {
   "cell_type": "code",
   "execution_count": 70,
   "id": "2a1f83a9-0188-41c3-bc28-74b522379dd2",
   "metadata": {},
   "outputs": [],
   "source": [
    "view_uncertainty = {'MINT.BK': 0.00012322140753027203,\n",
    " 'BANPU.BK': 0.00012403750261516687,\n",
    " 'TOP.BK': 0.00019572450145511315,\n",
    " 'DELTA.BK': 0.0008057969382672543,\n",
    " 'IRPC.BK': 0.00014679429361624975,\n",
    " 'PTTGC.BK': 9.470994506818193e-05,\n",
    " 'WHA.BK': 0.00017747626605975946,\n",
    " 'SCC.BK': 3.156809321696324e-05,\n",
    " 'CPN.BK': 6.614331164393798e-05,\n",
    " 'CENTEL.BK': 0.00014122606148905562,\n",
    " 'PTT.BK': 7.424036566177371e-05,\n",
    " 'BCP.BK': 0.00040549728636902474}\n"
   ]
  },
  {
   "cell_type": "code",
   "execution_count": 71,
   "id": "f0b9548a-cc88-4f42-865d-844f307f3a9b",
   "metadata": {},
   "outputs": [],
   "source": [
    "omega = np.diag(list(view_uncertainty.values()))"
   ]
  },
  {
   "cell_type": "code",
   "execution_count": 72,
   "id": "933a16f2-6a5b-4ec7-8692-0c91f516a8c3",
   "metadata": {},
   "outputs": [
    {
     "data": {
      "image/png": "[encoded data removed]",
      "text/plain": [
       "<Figure size 700x700 with 1 Axes>"
      ]
     },
     "metadata": {},
     "output_type": "display_data"
    }
   ],
   "source": [
    "fig, ax = plt.subplots(figsize=(7,7))\n",
    "im = ax.imshow(omega)\n",
    "\n",
    "# We want to show all ticks...\n",
    "ax.set_xticks(np.arange(len(bl.tickers)))\n",
    "ax.set_yticks(np.arange(len(bl.tickers)))\n",
    "\n",
    "ax.set_xticklabels(bl.tickers)\n",
    "ax.set_yticklabels(bl.tickers)\n",
    "plt.show()"
   ]
  },
  {
   "cell_type": "code",
   "execution_count": 73,
   "id": "69d148a5-b97d-4838-8df0-07a02e296a6b",
   "metadata": {},
   "outputs": [],
   "source": [
    "# We are using the shortcut to automatically compute market-implied prior\n",
    "bl = BlackLittermanModel(S, pi=\"market\", market_caps=mcaps, risk_aversion=delta,\n",
    "                        absolute_views=view_dict, omega=omega)"
   ]
  },
  {
   "cell_type": "code",
   "execution_count": 74,
   "id": "f101063f-6443-476c-ad75-cf0ff92988de",
   "metadata": {},
   "outputs": [
    {
     "data": {
      "text/plain": [
       "Ticker\n",
       "BANPU.BK    -0.022658\n",
       "BCP.BK      -0.049536\n",
       "CENTEL.BK    0.009057\n",
       "CPN.BK       0.005906\n",
       "DELTA.BK    -0.033296\n",
       "IRPC.BK     -0.026211\n",
       "MINT.BK      0.002469\n",
       "PTT.BK      -0.013537\n",
       "PTTGC.BK    -0.005510\n",
       "SCC.BK      -0.000832\n",
       "TOP.BK       0.000521\n",
       "WHA.BK      -0.025992\n",
       "dtype: float64"
      ]
     },
     "execution_count": 74,
     "metadata": {},
     "output_type": "execute_result"
    }
   ],
   "source": [
    "ret_bl = bl.bl_returns()\n",
    "ret_bl"
   ]
  },
  {
   "cell_type": "code",
   "execution_count": 75,
   "id": "f5afcd79-3e9d-44cd-b033-27ad193fb969",
   "metadata": {},
   "outputs": [
    {
     "data": {
      "text/html": [
       "<div>\n",
       "<style scoped>\n",
       "    .dataframe tbody tr th:only-of-type {\n",
       "        vertical-align: middle;\n",
       "    }\n",
       "\n",
       "    .dataframe tbody tr th {\n",
       "        vertical-align: top;\n",
       "    }\n",
       "\n",
       "    .dataframe thead th {\n",
       "        text-align: right;\n",
       "    }\n",
       "</style>\n",
       "<table border=\"1\" class=\"dataframe\">\n",
       "  <thead>\n",
       "    <tr style=\"text-align: right;\">\n",
       "      <th></th>\n",
       "      <th>Prior</th>\n",
       "      <th>Posterior</th>\n",
       "      <th>Views</th>\n",
       "    </tr>\n",
       "  </thead>\n",
       "  <tbody>\n",
       "    <tr>\n",
       "      <th>BANPU.BK</th>\n",
       "      <td>0.020016</td>\n",
       "      <td>-0.022658</td>\n",
       "      <td>-0.023271</td>\n",
       "    </tr>\n",
       "    <tr>\n",
       "      <th>BCP.BK</th>\n",
       "      <td>0.020196</td>\n",
       "      <td>-0.049536</td>\n",
       "      <td>-0.051870</td>\n",
       "    </tr>\n",
       "    <tr>\n",
       "      <th>CENTEL.BK</th>\n",
       "      <td>0.020066</td>\n",
       "      <td>0.009057</td>\n",
       "      <td>0.009387</td>\n",
       "    </tr>\n",
       "    <tr>\n",
       "      <th>CPN.BK</th>\n",
       "      <td>0.020297</td>\n",
       "      <td>0.005906</td>\n",
       "      <td>0.006040</td>\n",
       "    </tr>\n",
       "    <tr>\n",
       "      <th>DELTA.BK</th>\n",
       "      <td>0.021795</td>\n",
       "      <td>-0.033296</td>\n",
       "      <td>-0.036210</td>\n",
       "    </tr>\n",
       "    <tr>\n",
       "      <th>IRPC.BK</th>\n",
       "      <td>0.020216</td>\n",
       "      <td>-0.026211</td>\n",
       "      <td>-0.027065</td>\n",
       "    </tr>\n",
       "    <tr>\n",
       "      <th>MINT.BK</th>\n",
       "      <td>0.020021</td>\n",
       "      <td>0.002469</td>\n",
       "      <td>0.002447</td>\n",
       "    </tr>\n",
       "    <tr>\n",
       "      <th>PTT.BK</th>\n",
       "      <td>0.020740</td>\n",
       "      <td>-0.013537</td>\n",
       "      <td>-0.013693</td>\n",
       "    </tr>\n",
       "    <tr>\n",
       "      <th>PTTGC.BK</th>\n",
       "      <td>0.020412</td>\n",
       "      <td>-0.005510</td>\n",
       "      <td>-0.005472</td>\n",
       "    </tr>\n",
       "    <tr>\n",
       "      <th>SCC.BK</th>\n",
       "      <td>0.020202</td>\n",
       "      <td>-0.000832</td>\n",
       "      <td>-0.000838</td>\n",
       "    </tr>\n",
       "    <tr>\n",
       "      <th>TOP.BK</th>\n",
       "      <td>0.020252</td>\n",
       "      <td>0.000521</td>\n",
       "      <td>0.001068</td>\n",
       "    </tr>\n",
       "    <tr>\n",
       "      <th>WHA.BK</th>\n",
       "      <td>0.020324</td>\n",
       "      <td>-0.025992</td>\n",
       "      <td>-0.027378</td>\n",
       "    </tr>\n",
       "  </tbody>\n",
       "</table>\n",
       "</div>"
      ],
      "text/plain": [
       "              Prior  Posterior     Views\n",
       "BANPU.BK   0.020016  -0.022658 -0.023271\n",
       "BCP.BK     0.020196  -0.049536 -0.051870\n",
       "CENTEL.BK  0.020066   0.009057  0.009387\n",
       "CPN.BK     0.020297   0.005906  0.006040\n",
       "DELTA.BK   0.021795  -0.033296 -0.036210\n",
       "IRPC.BK    0.020216  -0.026211 -0.027065\n",
       "MINT.BK    0.020021   0.002469  0.002447\n",
       "PTT.BK     0.020740  -0.013537 -0.013693\n",
       "PTTGC.BK   0.020412  -0.005510 -0.005472\n",
       "SCC.BK     0.020202  -0.000832 -0.000838\n",
       "TOP.BK     0.020252   0.000521  0.001068\n",
       "WHA.BK     0.020324  -0.025992 -0.027378"
      ]
     },
     "execution_count": 75,
     "metadata": {},
     "output_type": "execute_result"
    }
   ],
   "source": [
    "rets_df = pd.DataFrame([market_prior, ret_bl, pd.Series(view_dict)],\n",
    "             index=[\"Prior\", \"Posterior\", \"Views\"]).T\n",
    "rets_df"
   ]
  },
  {
   "cell_type": "code",
   "execution_count": 76,
   "id": "a1539b03-bc56-4dfe-bbc4-470414255700",
   "metadata": {},
   "outputs": [
    {
     "data": {
      "image/png": "[encoded data removed]",
      "text/plain": [
       "<Figure size 640x480 with 2 Axes>"
      ]
     },
     "metadata": {},
     "output_type": "display_data"
    }
   ],
   "source": [
    "S_bl = bl.bl_cov()\n",
    "plotting.plot_covariance(S_bl);"
   ]
  },
  {
   "cell_type": "code",
   "execution_count": 82,
   "id": "4fe5b187-5950-4bfd-b173-70acb013e99a",
   "metadata": {},
   "outputs": [
    {
     "name": "stderr",
     "output_type": "stream",
     "text": [
      "C:\\Users\\TGAdmin\\anaconda3\\envs\\pymc_env\\Lib\\site-packages\\pypfopt\\efficient_frontier\\efficient_frontier.py:259: UserWarning: max_sharpe transforms the optimization problem so additional objectives may not work as expected.\n",
      "  warnings.warn(\n"
     ]
    },
    {
     "data": {
      "text/plain": [
       "OrderedDict([('BANPU.BK', 0.0),\n",
       "             ('BCP.BK', 0.0),\n",
       "             ('CENTEL.BK', 0.60999),\n",
       "             ('CPN.BK', 0.34184),\n",
       "             ('DELTA.BK', 0.0),\n",
       "             ('IRPC.BK', 0.0),\n",
       "             ('MINT.BK', 0.04817),\n",
       "             ('PTT.BK', 0.0),\n",
       "             ('PTTGC.BK', 0.0),\n",
       "             ('SCC.BK', 0.0),\n",
       "             ('TOP.BK', 0.0),\n",
       "             ('WHA.BK', 0.0)])"
      ]
     },
     "execution_count": 82,
     "metadata": {},
     "output_type": "execute_result"
    }
   ],
   "source": [
    "ef = EfficientFrontier(ret_bl, S_bl)\n",
    "ef.add_objective(objective_functions.L2_reg)\n",
    "ef.max_sharpe(risk_free_rate=0.0227/12)\n",
    "weights = ef.clean_weights()\n",
    "weights"
   ]
  },
  {
   "cell_type": "code",
   "execution_count": 83,
   "id": "e63abefa-9e77-4c43-9305-255b3fde4944",
   "metadata": {},
   "outputs": [
    {
     "data": {
      "image/png": "[encoded data removed]",
      "text/plain": [
       "<Figure size 900x900 with 1 Axes>"
      ]
     },
     "metadata": {},
     "output_type": "display_data"
    }
   ],
   "source": [
    "pd.Series(weights).plot.pie(figsize=(9,9));"
   ]
  },
  {
   "cell_type": "code",
   "execution_count": 86,
   "id": "80203fab-4e42-4a1c-8e28-9b92f837af53",
   "metadata": {},
   "outputs": [
    {
     "data": {
      "text/plain": [
       "OrderedDict([('BANPU.BK', 0.0),\n",
       "             ('BCP.BK', 0.0),\n",
       "             ('CENTEL.BK', 0.60999),\n",
       "             ('CPN.BK', 0.34184),\n",
       "             ('DELTA.BK', 0.0),\n",
       "             ('IRPC.BK', 0.0),\n",
       "             ('MINT.BK', 0.04817),\n",
       "             ('PTT.BK', 0.0),\n",
       "             ('PTTGC.BK', 0.0),\n",
       "             ('SCC.BK', 0.0),\n",
       "             ('TOP.BK', 0.0),\n",
       "             ('WHA.BK', 0.0)])"
      ]
     },
     "execution_count": 86,
     "metadata": {},
     "output_type": "execute_result"
    }
   ],
   "source": [
    "weights"
   ]
  },
  {
   "cell_type": "code",
   "execution_count": null,
   "id": "877e2b7b-d6c4-466c-9274-6af7559cf186",
   "metadata": {},
   "outputs": [],
   "source": []
  }
 ],
 "metadata": {
  "kernelspec": {
   "display_name": "Python 3 (ipykernel)",
   "language": "python",
   "name": "python3"
  },
  "language_info": {
   "codemirror_mode": {
    "name": "ipython",
    "version": 3
   },
   "file_extension": ".py",
   "mimetype": "text/x-python",
   "name": "python",
   "nbconvert_exporter": "python",
   "pygments_lexer": "ipython3",
   "version": "3.11.7"
  }
 },
 "nbformat": 4,
 "nbformat_minor": 5
}
